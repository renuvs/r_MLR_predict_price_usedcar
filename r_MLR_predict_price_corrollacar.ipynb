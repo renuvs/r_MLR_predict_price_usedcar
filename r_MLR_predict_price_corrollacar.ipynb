{
 "cells": [
  {
   "cell_type": "markdown",
   "id": "d5cbc2b1",
   "metadata": {},
   "source": [
    "# Problem Statement - To Prepare a prediction model for Price\n",
    "\n",
    "1. Consider only below columns\n",
    "2. Corolla<-Corolla[c(\"Price\",\"Age_08_04\",\"KM\",\"HP\",\"cc\",\"Doors\",\"Gears\",\"Quarterly_Tax\",\"Weight\")]"
   ]
  },
  {
   "cell_type": "markdown",
   "id": "5b24a2aa",
   "metadata": {},
   "source": [
    "#### We found that CC and Doors were inversely related with strength of 88%\n",
    "#### Calculated VIF for both and deleted CC with high VIF\n",
    "#### Checked for outliers and deleted 3 outliers from dataset\n",
    "#### Predicted price based on this model with rsquared value of 86%"
   ]
  },
  {
   "cell_type": "code",
   "execution_count": 79,
   "id": "702d7199",
   "metadata": {
    "ExecuteTime": {
     "end_time": "2022-05-04T07:07:05.752783Z",
     "start_time": "2022-05-04T07:07:05.742790Z"
    }
   },
   "outputs": [],
   "source": [
    "import warnings\n",
    "warnings.filterwarnings('ignore')\n",
    "\n",
    "import pandas as pd\n",
    "import numpy as np\n",
    "import matplotlib.pyplot as plt\n",
    "import seaborn as sns\n",
    "\n",
    "import statsmodels.formula.api as smf\n",
    "#from sklearn.linear_model import LinearRegression"
   ]
  },
  {
   "cell_type": "code",
   "execution_count": 80,
   "id": "fe120fa8",
   "metadata": {
    "ExecuteTime": {
     "end_time": "2022-05-04T07:07:06.911230Z",
     "start_time": "2022-05-04T07:07:06.824008Z"
    }
   },
   "outputs": [
    {
     "data": {
      "text/html": [
       "<div>\n",
       "<style scoped>\n",
       "    .dataframe tbody tr th:only-of-type {\n",
       "        vertical-align: middle;\n",
       "    }\n",
       "\n",
       "    .dataframe tbody tr th {\n",
       "        vertical-align: top;\n",
       "    }\n",
       "\n",
       "    .dataframe thead th {\n",
       "        text-align: right;\n",
       "    }\n",
       "</style>\n",
       "<table border=\"1\" class=\"dataframe\">\n",
       "  <thead>\n",
       "    <tr style=\"text-align: right;\">\n",
       "      <th></th>\n",
       "      <th>Id</th>\n",
       "      <th>Model</th>\n",
       "      <th>Price</th>\n",
       "      <th>Age_08_04</th>\n",
       "      <th>Mfg_Month</th>\n",
       "      <th>Mfg_Year</th>\n",
       "      <th>KM</th>\n",
       "      <th>Fuel_Type</th>\n",
       "      <th>HP</th>\n",
       "      <th>Met_Color</th>\n",
       "      <th>Color</th>\n",
       "      <th>Automatic</th>\n",
       "      <th>cc</th>\n",
       "      <th>Doors</th>\n",
       "      <th>Cylinders</th>\n",
       "      <th>Gears</th>\n",
       "      <th>Quarterly_Tax</th>\n",
       "      <th>Weight</th>\n",
       "      <th>Mfr_Guarantee</th>\n",
       "      <th>BOVAG_Guarantee</th>\n",
       "      <th>Guarantee_Period</th>\n",
       "      <th>ABS</th>\n",
       "      <th>Airbag_1</th>\n",
       "      <th>Airbag_2</th>\n",
       "      <th>Airco</th>\n",
       "      <th>Automatic_airco</th>\n",
       "      <th>Boardcomputer</th>\n",
       "      <th>CD_Player</th>\n",
       "      <th>Central_Lock</th>\n",
       "      <th>Powered_Windows</th>\n",
       "      <th>Power_Steering</th>\n",
       "      <th>Radio</th>\n",
       "      <th>Mistlamps</th>\n",
       "      <th>Sport_Model</th>\n",
       "      <th>Backseat_Divider</th>\n",
       "      <th>Metallic_Rim</th>\n",
       "      <th>Radio_cassette</th>\n",
       "      <th>Tow_Bar</th>\n",
       "    </tr>\n",
       "  </thead>\n",
       "  <tbody>\n",
       "    <tr>\n",
       "      <th>0</th>\n",
       "      <td>1</td>\n",
       "      <td>TOYOTA Corolla 2.0 D4D HATCHB TERRA 2/3-Doors</td>\n",
       "      <td>13500</td>\n",
       "      <td>23</td>\n",
       "      <td>10</td>\n",
       "      <td>2002</td>\n",
       "      <td>46986</td>\n",
       "      <td>Diesel</td>\n",
       "      <td>90</td>\n",
       "      <td>1</td>\n",
       "      <td>Blue</td>\n",
       "      <td>0</td>\n",
       "      <td>2000</td>\n",
       "      <td>3</td>\n",
       "      <td>4</td>\n",
       "      <td>5</td>\n",
       "      <td>210</td>\n",
       "      <td>1165</td>\n",
       "      <td>0</td>\n",
       "      <td>1</td>\n",
       "      <td>3</td>\n",
       "      <td>1</td>\n",
       "      <td>1</td>\n",
       "      <td>1</td>\n",
       "      <td>0</td>\n",
       "      <td>0</td>\n",
       "      <td>1</td>\n",
       "      <td>0</td>\n",
       "      <td>1</td>\n",
       "      <td>1</td>\n",
       "      <td>1</td>\n",
       "      <td>0</td>\n",
       "      <td>0</td>\n",
       "      <td>0</td>\n",
       "      <td>1</td>\n",
       "      <td>0</td>\n",
       "      <td>0</td>\n",
       "      <td>0</td>\n",
       "    </tr>\n",
       "    <tr>\n",
       "      <th>1</th>\n",
       "      <td>2</td>\n",
       "      <td>TOYOTA Corolla 2.0 D4D HATCHB TERRA 2/3-Doors</td>\n",
       "      <td>13750</td>\n",
       "      <td>23</td>\n",
       "      <td>10</td>\n",
       "      <td>2002</td>\n",
       "      <td>72937</td>\n",
       "      <td>Diesel</td>\n",
       "      <td>90</td>\n",
       "      <td>1</td>\n",
       "      <td>Silver</td>\n",
       "      <td>0</td>\n",
       "      <td>2000</td>\n",
       "      <td>3</td>\n",
       "      <td>4</td>\n",
       "      <td>5</td>\n",
       "      <td>210</td>\n",
       "      <td>1165</td>\n",
       "      <td>0</td>\n",
       "      <td>1</td>\n",
       "      <td>3</td>\n",
       "      <td>1</td>\n",
       "      <td>1</td>\n",
       "      <td>1</td>\n",
       "      <td>1</td>\n",
       "      <td>0</td>\n",
       "      <td>1</td>\n",
       "      <td>1</td>\n",
       "      <td>1</td>\n",
       "      <td>0</td>\n",
       "      <td>1</td>\n",
       "      <td>0</td>\n",
       "      <td>0</td>\n",
       "      <td>0</td>\n",
       "      <td>1</td>\n",
       "      <td>0</td>\n",
       "      <td>0</td>\n",
       "      <td>0</td>\n",
       "    </tr>\n",
       "    <tr>\n",
       "      <th>2</th>\n",
       "      <td>3</td>\n",
       "      <td>TOYOTA Corolla 2.0 D4D HATCHB TERRA 2/3-Doors</td>\n",
       "      <td>13950</td>\n",
       "      <td>24</td>\n",
       "      <td>9</td>\n",
       "      <td>2002</td>\n",
       "      <td>41711</td>\n",
       "      <td>Diesel</td>\n",
       "      <td>90</td>\n",
       "      <td>1</td>\n",
       "      <td>Blue</td>\n",
       "      <td>0</td>\n",
       "      <td>2000</td>\n",
       "      <td>3</td>\n",
       "      <td>4</td>\n",
       "      <td>5</td>\n",
       "      <td>210</td>\n",
       "      <td>1165</td>\n",
       "      <td>1</td>\n",
       "      <td>1</td>\n",
       "      <td>3</td>\n",
       "      <td>1</td>\n",
       "      <td>1</td>\n",
       "      <td>1</td>\n",
       "      <td>0</td>\n",
       "      <td>0</td>\n",
       "      <td>1</td>\n",
       "      <td>0</td>\n",
       "      <td>0</td>\n",
       "      <td>0</td>\n",
       "      <td>1</td>\n",
       "      <td>0</td>\n",
       "      <td>0</td>\n",
       "      <td>0</td>\n",
       "      <td>1</td>\n",
       "      <td>0</td>\n",
       "      <td>0</td>\n",
       "      <td>0</td>\n",
       "    </tr>\n",
       "    <tr>\n",
       "      <th>3</th>\n",
       "      <td>4</td>\n",
       "      <td>TOYOTA Corolla 2.0 D4D HATCHB TERRA 2/3-Doors</td>\n",
       "      <td>14950</td>\n",
       "      <td>26</td>\n",
       "      <td>7</td>\n",
       "      <td>2002</td>\n",
       "      <td>48000</td>\n",
       "      <td>Diesel</td>\n",
       "      <td>90</td>\n",
       "      <td>0</td>\n",
       "      <td>Black</td>\n",
       "      <td>0</td>\n",
       "      <td>2000</td>\n",
       "      <td>3</td>\n",
       "      <td>4</td>\n",
       "      <td>5</td>\n",
       "      <td>210</td>\n",
       "      <td>1165</td>\n",
       "      <td>1</td>\n",
       "      <td>1</td>\n",
       "      <td>3</td>\n",
       "      <td>1</td>\n",
       "      <td>1</td>\n",
       "      <td>1</td>\n",
       "      <td>0</td>\n",
       "      <td>0</td>\n",
       "      <td>1</td>\n",
       "      <td>0</td>\n",
       "      <td>0</td>\n",
       "      <td>0</td>\n",
       "      <td>1</td>\n",
       "      <td>0</td>\n",
       "      <td>0</td>\n",
       "      <td>0</td>\n",
       "      <td>1</td>\n",
       "      <td>0</td>\n",
       "      <td>0</td>\n",
       "      <td>0</td>\n",
       "    </tr>\n",
       "    <tr>\n",
       "      <th>4</th>\n",
       "      <td>5</td>\n",
       "      <td>TOYOTA Corolla 2.0 D4D HATCHB SOL 2/3-Doors</td>\n",
       "      <td>13750</td>\n",
       "      <td>30</td>\n",
       "      <td>3</td>\n",
       "      <td>2002</td>\n",
       "      <td>38500</td>\n",
       "      <td>Diesel</td>\n",
       "      <td>90</td>\n",
       "      <td>0</td>\n",
       "      <td>Black</td>\n",
       "      <td>0</td>\n",
       "      <td>2000</td>\n",
       "      <td>3</td>\n",
       "      <td>4</td>\n",
       "      <td>5</td>\n",
       "      <td>210</td>\n",
       "      <td>1170</td>\n",
       "      <td>1</td>\n",
       "      <td>1</td>\n",
       "      <td>3</td>\n",
       "      <td>1</td>\n",
       "      <td>1</td>\n",
       "      <td>1</td>\n",
       "      <td>1</td>\n",
       "      <td>0</td>\n",
       "      <td>1</td>\n",
       "      <td>0</td>\n",
       "      <td>1</td>\n",
       "      <td>1</td>\n",
       "      <td>1</td>\n",
       "      <td>0</td>\n",
       "      <td>1</td>\n",
       "      <td>0</td>\n",
       "      <td>1</td>\n",
       "      <td>0</td>\n",
       "      <td>0</td>\n",
       "      <td>0</td>\n",
       "    </tr>\n",
       "    <tr>\n",
       "      <th>...</th>\n",
       "      <td>...</td>\n",
       "      <td>...</td>\n",
       "      <td>...</td>\n",
       "      <td>...</td>\n",
       "      <td>...</td>\n",
       "      <td>...</td>\n",
       "      <td>...</td>\n",
       "      <td>...</td>\n",
       "      <td>...</td>\n",
       "      <td>...</td>\n",
       "      <td>...</td>\n",
       "      <td>...</td>\n",
       "      <td>...</td>\n",
       "      <td>...</td>\n",
       "      <td>...</td>\n",
       "      <td>...</td>\n",
       "      <td>...</td>\n",
       "      <td>...</td>\n",
       "      <td>...</td>\n",
       "      <td>...</td>\n",
       "      <td>...</td>\n",
       "      <td>...</td>\n",
       "      <td>...</td>\n",
       "      <td>...</td>\n",
       "      <td>...</td>\n",
       "      <td>...</td>\n",
       "      <td>...</td>\n",
       "      <td>...</td>\n",
       "      <td>...</td>\n",
       "      <td>...</td>\n",
       "      <td>...</td>\n",
       "      <td>...</td>\n",
       "      <td>...</td>\n",
       "      <td>...</td>\n",
       "      <td>...</td>\n",
       "      <td>...</td>\n",
       "      <td>...</td>\n",
       "      <td>...</td>\n",
       "    </tr>\n",
       "    <tr>\n",
       "      <th>1431</th>\n",
       "      <td>1438</td>\n",
       "      <td>TOYOTA Corolla 1.3 16V HATCHB G6 2/3-Doors</td>\n",
       "      <td>7500</td>\n",
       "      <td>69</td>\n",
       "      <td>12</td>\n",
       "      <td>1998</td>\n",
       "      <td>20544</td>\n",
       "      <td>Petrol</td>\n",
       "      <td>86</td>\n",
       "      <td>1</td>\n",
       "      <td>Blue</td>\n",
       "      <td>0</td>\n",
       "      <td>1300</td>\n",
       "      <td>3</td>\n",
       "      <td>4</td>\n",
       "      <td>5</td>\n",
       "      <td>69</td>\n",
       "      <td>1025</td>\n",
       "      <td>1</td>\n",
       "      <td>1</td>\n",
       "      <td>3</td>\n",
       "      <td>1</td>\n",
       "      <td>1</td>\n",
       "      <td>1</td>\n",
       "      <td>1</td>\n",
       "      <td>0</td>\n",
       "      <td>0</td>\n",
       "      <td>0</td>\n",
       "      <td>1</td>\n",
       "      <td>1</td>\n",
       "      <td>1</td>\n",
       "      <td>0</td>\n",
       "      <td>1</td>\n",
       "      <td>1</td>\n",
       "      <td>1</td>\n",
       "      <td>0</td>\n",
       "      <td>0</td>\n",
       "      <td>0</td>\n",
       "    </tr>\n",
       "    <tr>\n",
       "      <th>1432</th>\n",
       "      <td>1439</td>\n",
       "      <td>TOYOTA Corolla 1.3 16V HATCHB LINEA TERRA 2/3-...</td>\n",
       "      <td>10845</td>\n",
       "      <td>72</td>\n",
       "      <td>9</td>\n",
       "      <td>1998</td>\n",
       "      <td>19000</td>\n",
       "      <td>Petrol</td>\n",
       "      <td>86</td>\n",
       "      <td>0</td>\n",
       "      <td>Grey</td>\n",
       "      <td>0</td>\n",
       "      <td>1300</td>\n",
       "      <td>3</td>\n",
       "      <td>4</td>\n",
       "      <td>5</td>\n",
       "      <td>69</td>\n",
       "      <td>1015</td>\n",
       "      <td>0</td>\n",
       "      <td>1</td>\n",
       "      <td>3</td>\n",
       "      <td>1</td>\n",
       "      <td>1</td>\n",
       "      <td>1</td>\n",
       "      <td>0</td>\n",
       "      <td>0</td>\n",
       "      <td>0</td>\n",
       "      <td>0</td>\n",
       "      <td>0</td>\n",
       "      <td>0</td>\n",
       "      <td>1</td>\n",
       "      <td>0</td>\n",
       "      <td>0</td>\n",
       "      <td>1</td>\n",
       "      <td>1</td>\n",
       "      <td>0</td>\n",
       "      <td>0</td>\n",
       "      <td>0</td>\n",
       "    </tr>\n",
       "    <tr>\n",
       "      <th>1433</th>\n",
       "      <td>1440</td>\n",
       "      <td>TOYOTA Corolla 1.3 16V HATCHB LINEA TERRA 2/3-...</td>\n",
       "      <td>8500</td>\n",
       "      <td>71</td>\n",
       "      <td>10</td>\n",
       "      <td>1998</td>\n",
       "      <td>17016</td>\n",
       "      <td>Petrol</td>\n",
       "      <td>86</td>\n",
       "      <td>0</td>\n",
       "      <td>Blue</td>\n",
       "      <td>0</td>\n",
       "      <td>1300</td>\n",
       "      <td>3</td>\n",
       "      <td>4</td>\n",
       "      <td>5</td>\n",
       "      <td>69</td>\n",
       "      <td>1015</td>\n",
       "      <td>0</td>\n",
       "      <td>1</td>\n",
       "      <td>3</td>\n",
       "      <td>0</td>\n",
       "      <td>1</td>\n",
       "      <td>1</td>\n",
       "      <td>0</td>\n",
       "      <td>0</td>\n",
       "      <td>0</td>\n",
       "      <td>0</td>\n",
       "      <td>0</td>\n",
       "      <td>0</td>\n",
       "      <td>1</td>\n",
       "      <td>0</td>\n",
       "      <td>0</td>\n",
       "      <td>0</td>\n",
       "      <td>1</td>\n",
       "      <td>0</td>\n",
       "      <td>0</td>\n",
       "      <td>0</td>\n",
       "    </tr>\n",
       "    <tr>\n",
       "      <th>1434</th>\n",
       "      <td>1441</td>\n",
       "      <td>TOYOTA Corolla 1.3 16V HATCHB LINEA TERRA 2/3-...</td>\n",
       "      <td>7250</td>\n",
       "      <td>70</td>\n",
       "      <td>11</td>\n",
       "      <td>1998</td>\n",
       "      <td>16916</td>\n",
       "      <td>Petrol</td>\n",
       "      <td>86</td>\n",
       "      <td>1</td>\n",
       "      <td>Grey</td>\n",
       "      <td>0</td>\n",
       "      <td>1300</td>\n",
       "      <td>3</td>\n",
       "      <td>4</td>\n",
       "      <td>5</td>\n",
       "      <td>69</td>\n",
       "      <td>1015</td>\n",
       "      <td>1</td>\n",
       "      <td>1</td>\n",
       "      <td>3</td>\n",
       "      <td>0</td>\n",
       "      <td>0</td>\n",
       "      <td>0</td>\n",
       "      <td>0</td>\n",
       "      <td>0</td>\n",
       "      <td>0</td>\n",
       "      <td>0</td>\n",
       "      <td>0</td>\n",
       "      <td>0</td>\n",
       "      <td>0</td>\n",
       "      <td>0</td>\n",
       "      <td>0</td>\n",
       "      <td>0</td>\n",
       "      <td>1</td>\n",
       "      <td>0</td>\n",
       "      <td>0</td>\n",
       "      <td>0</td>\n",
       "    </tr>\n",
       "    <tr>\n",
       "      <th>1435</th>\n",
       "      <td>1442</td>\n",
       "      <td>TOYOTA Corolla 1.6 LB LINEA TERRA 4/5-Doors</td>\n",
       "      <td>6950</td>\n",
       "      <td>76</td>\n",
       "      <td>5</td>\n",
       "      <td>1998</td>\n",
       "      <td>1</td>\n",
       "      <td>Petrol</td>\n",
       "      <td>110</td>\n",
       "      <td>0</td>\n",
       "      <td>Green</td>\n",
       "      <td>0</td>\n",
       "      <td>1600</td>\n",
       "      <td>5</td>\n",
       "      <td>4</td>\n",
       "      <td>5</td>\n",
       "      <td>19</td>\n",
       "      <td>1114</td>\n",
       "      <td>0</td>\n",
       "      <td>0</td>\n",
       "      <td>3</td>\n",
       "      <td>0</td>\n",
       "      <td>1</td>\n",
       "      <td>0</td>\n",
       "      <td>0</td>\n",
       "      <td>0</td>\n",
       "      <td>0</td>\n",
       "      <td>0</td>\n",
       "      <td>0</td>\n",
       "      <td>0</td>\n",
       "      <td>1</td>\n",
       "      <td>0</td>\n",
       "      <td>0</td>\n",
       "      <td>0</td>\n",
       "      <td>0</td>\n",
       "      <td>0</td>\n",
       "      <td>0</td>\n",
       "      <td>0</td>\n",
       "    </tr>\n",
       "  </tbody>\n",
       "</table>\n",
       "<p>1436 rows × 38 columns</p>\n",
       "</div>"
      ],
      "text/plain": [
       "        Id                                              Model  Price  ...  Metallic_Rim  Radio_cassette  Tow_Bar\n",
       "0        1      TOYOTA Corolla 2.0 D4D HATCHB TERRA 2/3-Doors  13500  ...             0               0        0\n",
       "1        2      TOYOTA Corolla 2.0 D4D HATCHB TERRA 2/3-Doors  13750  ...             0               0        0\n",
       "2        3      TOYOTA Corolla 2.0 D4D HATCHB TERRA 2/3-Doors  13950  ...             0               0        0\n",
       "3        4      TOYOTA Corolla 2.0 D4D HATCHB TERRA 2/3-Doors  14950  ...             0               0        0\n",
       "4        5        TOYOTA Corolla 2.0 D4D HATCHB SOL 2/3-Doors  13750  ...             0               0        0\n",
       "...    ...                                                ...    ...  ...           ...             ...      ...\n",
       "1431  1438         TOYOTA Corolla 1.3 16V HATCHB G6 2/3-Doors   7500  ...             0               0        0\n",
       "1432  1439  TOYOTA Corolla 1.3 16V HATCHB LINEA TERRA 2/3-...  10845  ...             0               0        0\n",
       "1433  1440  TOYOTA Corolla 1.3 16V HATCHB LINEA TERRA 2/3-...   8500  ...             0               0        0\n",
       "1434  1441  TOYOTA Corolla 1.3 16V HATCHB LINEA TERRA 2/3-...   7250  ...             0               0        0\n",
       "1435  1442        TOYOTA Corolla 1.6 LB LINEA TERRA 4/5-Doors   6950  ...             0               0        0\n",
       "\n",
       "[1436 rows x 38 columns]"
      ]
     },
     "execution_count": 80,
     "metadata": {},
     "output_type": "execute_result"
    }
   ],
   "source": [
    "ds = pd.read_csv('ToyotaCorolla.csv' ,encoding ='unicode_escape')\n",
    "ds"
   ]
  },
  {
   "cell_type": "code",
   "execution_count": 81,
   "id": "dddf5adc",
   "metadata": {
    "ExecuteTime": {
     "end_time": "2022-05-04T07:07:10.782050Z",
     "start_time": "2022-05-04T07:07:10.769058Z"
    }
   },
   "outputs": [
    {
     "data": {
      "text/plain": [
       "(1436, 38)"
      ]
     },
     "execution_count": 81,
     "metadata": {},
     "output_type": "execute_result"
    }
   ],
   "source": [
    "ds.shape"
   ]
  },
  {
   "cell_type": "code",
   "execution_count": 82,
   "id": "eddfd9ef",
   "metadata": {
    "ExecuteTime": {
     "end_time": "2022-05-04T07:07:11.635757Z",
     "start_time": "2022-05-04T07:07:11.607775Z"
    }
   },
   "outputs": [
    {
     "name": "stdout",
     "output_type": "stream",
     "text": [
      "   Age_08_04     KM  HP    cc  Doors  Gears  Quarterly_Tax  Weight  Price\n",
      "0         23  46986  90  2000      3      5            210    1165  13500\n",
      "1         23  72937  90  2000      3      5            210    1165  13750\n",
      "2         24  41711  90  2000      3      5            210    1165  13950\n",
      "3         26  48000  90  2000      3      5            210    1165  14950\n",
      "4         30  38500  90  2000      3      5            210    1170  13750\n"
     ]
    },
    {
     "data": {
      "text/plain": [
       "(1436, 9)"
      ]
     },
     "execution_count": 82,
     "metadata": {},
     "output_type": "execute_result"
    }
   ],
   "source": [
    "car_ds = pd.DataFrame(ds, columns=[\"Age_08_04\", \"KM\",\"HP\",\"cc\",\"Doors\",\"Gears\",\"Quarterly_Tax\",\"Weight\",\"Price\"])\n",
    "print(car_ds.head())\n",
    "car_ds.shape"
   ]
  },
  {
   "cell_type": "code",
   "execution_count": 83,
   "id": "0a299952",
   "metadata": {
    "ExecuteTime": {
     "end_time": "2022-05-04T07:07:13.571008Z",
     "start_time": "2022-05-04T07:07:13.537027Z"
    }
   },
   "outputs": [
    {
     "data": {
      "text/html": [
       "<div>\n",
       "<style scoped>\n",
       "    .dataframe tbody tr th:only-of-type {\n",
       "        vertical-align: middle;\n",
       "    }\n",
       "\n",
       "    .dataframe tbody tr th {\n",
       "        vertical-align: top;\n",
       "    }\n",
       "\n",
       "    .dataframe thead th {\n",
       "        text-align: right;\n",
       "    }\n",
       "</style>\n",
       "<table border=\"1\" class=\"dataframe\">\n",
       "  <thead>\n",
       "    <tr style=\"text-align: right;\">\n",
       "      <th></th>\n",
       "      <th>age_months</th>\n",
       "      <th>KM</th>\n",
       "      <th>HP</th>\n",
       "      <th>cc</th>\n",
       "      <th>Doors</th>\n",
       "      <th>Gears</th>\n",
       "      <th>Quarterly_Tax</th>\n",
       "      <th>Weight</th>\n",
       "      <th>Price</th>\n",
       "    </tr>\n",
       "  </thead>\n",
       "  <tbody>\n",
       "    <tr>\n",
       "      <th>0</th>\n",
       "      <td>23</td>\n",
       "      <td>46986</td>\n",
       "      <td>90</td>\n",
       "      <td>2000</td>\n",
       "      <td>3</td>\n",
       "      <td>5</td>\n",
       "      <td>210</td>\n",
       "      <td>1165</td>\n",
       "      <td>13500</td>\n",
       "    </tr>\n",
       "    <tr>\n",
       "      <th>1</th>\n",
       "      <td>23</td>\n",
       "      <td>72937</td>\n",
       "      <td>90</td>\n",
       "      <td>2000</td>\n",
       "      <td>3</td>\n",
       "      <td>5</td>\n",
       "      <td>210</td>\n",
       "      <td>1165</td>\n",
       "      <td>13750</td>\n",
       "    </tr>\n",
       "    <tr>\n",
       "      <th>2</th>\n",
       "      <td>24</td>\n",
       "      <td>41711</td>\n",
       "      <td>90</td>\n",
       "      <td>2000</td>\n",
       "      <td>3</td>\n",
       "      <td>5</td>\n",
       "      <td>210</td>\n",
       "      <td>1165</td>\n",
       "      <td>13950</td>\n",
       "    </tr>\n",
       "    <tr>\n",
       "      <th>3</th>\n",
       "      <td>26</td>\n",
       "      <td>48000</td>\n",
       "      <td>90</td>\n",
       "      <td>2000</td>\n",
       "      <td>3</td>\n",
       "      <td>5</td>\n",
       "      <td>210</td>\n",
       "      <td>1165</td>\n",
       "      <td>14950</td>\n",
       "    </tr>\n",
       "    <tr>\n",
       "      <th>4</th>\n",
       "      <td>30</td>\n",
       "      <td>38500</td>\n",
       "      <td>90</td>\n",
       "      <td>2000</td>\n",
       "      <td>3</td>\n",
       "      <td>5</td>\n",
       "      <td>210</td>\n",
       "      <td>1170</td>\n",
       "      <td>13750</td>\n",
       "    </tr>\n",
       "    <tr>\n",
       "      <th>...</th>\n",
       "      <td>...</td>\n",
       "      <td>...</td>\n",
       "      <td>...</td>\n",
       "      <td>...</td>\n",
       "      <td>...</td>\n",
       "      <td>...</td>\n",
       "      <td>...</td>\n",
       "      <td>...</td>\n",
       "      <td>...</td>\n",
       "    </tr>\n",
       "    <tr>\n",
       "      <th>1431</th>\n",
       "      <td>69</td>\n",
       "      <td>20544</td>\n",
       "      <td>86</td>\n",
       "      <td>1300</td>\n",
       "      <td>3</td>\n",
       "      <td>5</td>\n",
       "      <td>69</td>\n",
       "      <td>1025</td>\n",
       "      <td>7500</td>\n",
       "    </tr>\n",
       "    <tr>\n",
       "      <th>1432</th>\n",
       "      <td>72</td>\n",
       "      <td>19000</td>\n",
       "      <td>86</td>\n",
       "      <td>1300</td>\n",
       "      <td>3</td>\n",
       "      <td>5</td>\n",
       "      <td>69</td>\n",
       "      <td>1015</td>\n",
       "      <td>10845</td>\n",
       "    </tr>\n",
       "    <tr>\n",
       "      <th>1433</th>\n",
       "      <td>71</td>\n",
       "      <td>17016</td>\n",
       "      <td>86</td>\n",
       "      <td>1300</td>\n",
       "      <td>3</td>\n",
       "      <td>5</td>\n",
       "      <td>69</td>\n",
       "      <td>1015</td>\n",
       "      <td>8500</td>\n",
       "    </tr>\n",
       "    <tr>\n",
       "      <th>1434</th>\n",
       "      <td>70</td>\n",
       "      <td>16916</td>\n",
       "      <td>86</td>\n",
       "      <td>1300</td>\n",
       "      <td>3</td>\n",
       "      <td>5</td>\n",
       "      <td>69</td>\n",
       "      <td>1015</td>\n",
       "      <td>7250</td>\n",
       "    </tr>\n",
       "    <tr>\n",
       "      <th>1435</th>\n",
       "      <td>76</td>\n",
       "      <td>1</td>\n",
       "      <td>110</td>\n",
       "      <td>1600</td>\n",
       "      <td>5</td>\n",
       "      <td>5</td>\n",
       "      <td>19</td>\n",
       "      <td>1114</td>\n",
       "      <td>6950</td>\n",
       "    </tr>\n",
       "  </tbody>\n",
       "</table>\n",
       "<p>1436 rows × 9 columns</p>\n",
       "</div>"
      ],
      "text/plain": [
       "      age_months     KM   HP    cc  Doors  Gears  Quarterly_Tax  Weight  Price\n",
       "0             23  46986   90  2000      3      5            210    1165  13500\n",
       "1             23  72937   90  2000      3      5            210    1165  13750\n",
       "2             24  41711   90  2000      3      5            210    1165  13950\n",
       "3             26  48000   90  2000      3      5            210    1165  14950\n",
       "4             30  38500   90  2000      3      5            210    1170  13750\n",
       "...          ...    ...  ...   ...    ...    ...            ...     ...    ...\n",
       "1431          69  20544   86  1300      3      5             69    1025   7500\n",
       "1432          72  19000   86  1300      3      5             69    1015  10845\n",
       "1433          71  17016   86  1300      3      5             69    1015   8500\n",
       "1434          70  16916   86  1300      3      5             69    1015   7250\n",
       "1435          76      1  110  1600      5      5             19    1114   6950\n",
       "\n",
       "[1436 rows x 9 columns]"
      ]
     },
     "execution_count": 83,
     "metadata": {},
     "output_type": "execute_result"
    }
   ],
   "source": [
    "car_ds.rename(columns= {'Age_08_04':'age_months'},inplace=True)\n",
    "car_ds"
   ]
  },
  {
   "cell_type": "markdown",
   "id": "88837144",
   "metadata": {
    "heading_collapsed": true
   },
   "source": [
    "### Exploratory Data Analysis - EDA"
   ]
  },
  {
   "cell_type": "code",
   "execution_count": 84,
   "id": "f3c961b7",
   "metadata": {
    "ExecuteTime": {
     "end_time": "2022-05-04T07:07:15.843922Z",
     "start_time": "2022-05-04T07:07:15.831930Z"
    },
    "hidden": true
   },
   "outputs": [
    {
     "name": "stdout",
     "output_type": "stream",
     "text": [
      "<class 'pandas.core.frame.DataFrame'>\n",
      "RangeIndex: 1436 entries, 0 to 1435\n",
      "Data columns (total 9 columns):\n",
      " #   Column         Non-Null Count  Dtype\n",
      "---  ------         --------------  -----\n",
      " 0   age_months     1436 non-null   int64\n",
      " 1   KM             1436 non-null   int64\n",
      " 2   HP             1436 non-null   int64\n",
      " 3   cc             1436 non-null   int64\n",
      " 4   Doors          1436 non-null   int64\n",
      " 5   Gears          1436 non-null   int64\n",
      " 6   Quarterly_Tax  1436 non-null   int64\n",
      " 7   Weight         1436 non-null   int64\n",
      " 8   Price          1436 non-null   int64\n",
      "dtypes: int64(9)\n",
      "memory usage: 101.1 KB\n"
     ]
    }
   ],
   "source": [
    "car_ds.info()"
   ]
  },
  {
   "cell_type": "code",
   "execution_count": 85,
   "id": "8e998c69",
   "metadata": {
    "ExecuteTime": {
     "end_time": "2022-05-04T07:07:17.597945Z",
     "start_time": "2022-05-04T07:07:17.543979Z"
    },
    "hidden": true
   },
   "outputs": [
    {
     "data": {
      "text/html": [
       "<div>\n",
       "<style scoped>\n",
       "    .dataframe tbody tr th:only-of-type {\n",
       "        vertical-align: middle;\n",
       "    }\n",
       "\n",
       "    .dataframe tbody tr th {\n",
       "        vertical-align: top;\n",
       "    }\n",
       "\n",
       "    .dataframe thead th {\n",
       "        text-align: right;\n",
       "    }\n",
       "</style>\n",
       "<table border=\"1\" class=\"dataframe\">\n",
       "  <thead>\n",
       "    <tr style=\"text-align: right;\">\n",
       "      <th></th>\n",
       "      <th>age_months</th>\n",
       "      <th>KM</th>\n",
       "      <th>HP</th>\n",
       "      <th>cc</th>\n",
       "      <th>Doors</th>\n",
       "      <th>Gears</th>\n",
       "      <th>Quarterly_Tax</th>\n",
       "      <th>Weight</th>\n",
       "      <th>Price</th>\n",
       "    </tr>\n",
       "  </thead>\n",
       "  <tbody>\n",
       "    <tr>\n",
       "      <th>count</th>\n",
       "      <td>1436.000000</td>\n",
       "      <td>1436.000000</td>\n",
       "      <td>1436.000000</td>\n",
       "      <td>1436.00000</td>\n",
       "      <td>1436.000000</td>\n",
       "      <td>1436.000000</td>\n",
       "      <td>1436.000000</td>\n",
       "      <td>1436.00000</td>\n",
       "      <td>1436.000000</td>\n",
       "    </tr>\n",
       "    <tr>\n",
       "      <th>mean</th>\n",
       "      <td>55.947075</td>\n",
       "      <td>68533.259749</td>\n",
       "      <td>101.502089</td>\n",
       "      <td>1576.85585</td>\n",
       "      <td>4.033426</td>\n",
       "      <td>5.026462</td>\n",
       "      <td>87.122563</td>\n",
       "      <td>1072.45961</td>\n",
       "      <td>10730.824513</td>\n",
       "    </tr>\n",
       "    <tr>\n",
       "      <th>std</th>\n",
       "      <td>18.599988</td>\n",
       "      <td>37506.448872</td>\n",
       "      <td>14.981080</td>\n",
       "      <td>424.38677</td>\n",
       "      <td>0.952677</td>\n",
       "      <td>0.188510</td>\n",
       "      <td>41.128611</td>\n",
       "      <td>52.64112</td>\n",
       "      <td>3626.964585</td>\n",
       "    </tr>\n",
       "    <tr>\n",
       "      <th>min</th>\n",
       "      <td>1.000000</td>\n",
       "      <td>1.000000</td>\n",
       "      <td>69.000000</td>\n",
       "      <td>1300.00000</td>\n",
       "      <td>2.000000</td>\n",
       "      <td>3.000000</td>\n",
       "      <td>19.000000</td>\n",
       "      <td>1000.00000</td>\n",
       "      <td>4350.000000</td>\n",
       "    </tr>\n",
       "    <tr>\n",
       "      <th>25%</th>\n",
       "      <td>44.000000</td>\n",
       "      <td>43000.000000</td>\n",
       "      <td>90.000000</td>\n",
       "      <td>1400.00000</td>\n",
       "      <td>3.000000</td>\n",
       "      <td>5.000000</td>\n",
       "      <td>69.000000</td>\n",
       "      <td>1040.00000</td>\n",
       "      <td>8450.000000</td>\n",
       "    </tr>\n",
       "    <tr>\n",
       "      <th>50%</th>\n",
       "      <td>61.000000</td>\n",
       "      <td>63389.500000</td>\n",
       "      <td>110.000000</td>\n",
       "      <td>1600.00000</td>\n",
       "      <td>4.000000</td>\n",
       "      <td>5.000000</td>\n",
       "      <td>85.000000</td>\n",
       "      <td>1070.00000</td>\n",
       "      <td>9900.000000</td>\n",
       "    </tr>\n",
       "    <tr>\n",
       "      <th>75%</th>\n",
       "      <td>70.000000</td>\n",
       "      <td>87020.750000</td>\n",
       "      <td>110.000000</td>\n",
       "      <td>1600.00000</td>\n",
       "      <td>5.000000</td>\n",
       "      <td>5.000000</td>\n",
       "      <td>85.000000</td>\n",
       "      <td>1085.00000</td>\n",
       "      <td>11950.000000</td>\n",
       "    </tr>\n",
       "    <tr>\n",
       "      <th>max</th>\n",
       "      <td>80.000000</td>\n",
       "      <td>243000.000000</td>\n",
       "      <td>192.000000</td>\n",
       "      <td>16000.00000</td>\n",
       "      <td>5.000000</td>\n",
       "      <td>6.000000</td>\n",
       "      <td>283.000000</td>\n",
       "      <td>1615.00000</td>\n",
       "      <td>32500.000000</td>\n",
       "    </tr>\n",
       "  </tbody>\n",
       "</table>\n",
       "</div>"
      ],
      "text/plain": [
       "        age_months             KM           HP           cc  ...        Gears  Quarterly_Tax      Weight         Price\n",
       "count  1436.000000    1436.000000  1436.000000   1436.00000  ...  1436.000000    1436.000000  1436.00000   1436.000000\n",
       "mean     55.947075   68533.259749   101.502089   1576.85585  ...     5.026462      87.122563  1072.45961  10730.824513\n",
       "std      18.599988   37506.448872    14.981080    424.38677  ...     0.188510      41.128611    52.64112   3626.964585\n",
       "min       1.000000       1.000000    69.000000   1300.00000  ...     3.000000      19.000000  1000.00000   4350.000000\n",
       "25%      44.000000   43000.000000    90.000000   1400.00000  ...     5.000000      69.000000  1040.00000   8450.000000\n",
       "50%      61.000000   63389.500000   110.000000   1600.00000  ...     5.000000      85.000000  1070.00000   9900.000000\n",
       "75%      70.000000   87020.750000   110.000000   1600.00000  ...     5.000000      85.000000  1085.00000  11950.000000\n",
       "max      80.000000  243000.000000   192.000000  16000.00000  ...     6.000000     283.000000  1615.00000  32500.000000\n",
       "\n",
       "[8 rows x 9 columns]"
      ]
     },
     "execution_count": 85,
     "metadata": {},
     "output_type": "execute_result"
    }
   ],
   "source": [
    "car_ds.describe()"
   ]
  },
  {
   "cell_type": "code",
   "execution_count": 16,
   "id": "a817bb36",
   "metadata": {
    "ExecuteTime": {
     "end_time": "2022-05-04T05:55:50.883538Z",
     "start_time": "2022-05-04T05:55:33.637412Z"
    },
    "hidden": true
   },
   "outputs": [
    {
     "data": {
      "text/plain": [
       "<seaborn.axisgrid.PairGrid at 0x241f25108b0>"
      ]
     },
     "execution_count": 16,
     "metadata": {},
     "output_type": "execute_result"
    },
    {
     "data": {
      "image/png": "[encoded data removed]",
      "text/plain": [
       "<Figure size 1620x1620 with 90 Axes>"
      ]
     },
     "metadata": {
      "needs_background": "light"
     },
     "output_type": "display_data"
    }
   ],
   "source": [
    "sns.pairplot(car_ds)"
   ]
  },
  {
   "cell_type": "code",
   "execution_count": 31,
   "id": "eb2675d2",
   "metadata": {
    "ExecuteTime": {
     "end_time": "2022-05-04T06:06:20.434432Z",
     "start_time": "2022-05-04T06:06:20.402453Z"
    },
    "hidden": true
   },
   "outputs": [
    {
     "data": {
      "text/html": [
       "<div>\n",
       "<style scoped>\n",
       "    .dataframe tbody tr th:only-of-type {\n",
       "        vertical-align: middle;\n",
       "    }\n",
       "\n",
       "    .dataframe tbody tr th {\n",
       "        vertical-align: top;\n",
       "    }\n",
       "\n",
       "    .dataframe thead th {\n",
       "        text-align: right;\n",
       "    }\n",
       "</style>\n",
       "<table border=\"1\" class=\"dataframe\">\n",
       "  <thead>\n",
       "    <tr style=\"text-align: right;\">\n",
       "      <th></th>\n",
       "      <th>age_months</th>\n",
       "      <th>KM</th>\n",
       "      <th>HP</th>\n",
       "      <th>cc</th>\n",
       "      <th>Doors</th>\n",
       "      <th>Gears</th>\n",
       "      <th>Quarterly_Tax</th>\n",
       "      <th>Weight</th>\n",
       "      <th>Price</th>\n",
       "    </tr>\n",
       "  </thead>\n",
       "  <tbody>\n",
       "    <tr>\n",
       "      <th>age_months</th>\n",
       "      <td>1.000000</td>\n",
       "      <td>0.505672</td>\n",
       "      <td>-0.156622</td>\n",
       "      <td>-0.098084</td>\n",
       "      <td>-0.148359</td>\n",
       "      <td>-0.005364</td>\n",
       "      <td>-0.198431</td>\n",
       "      <td>-0.470253</td>\n",
       "      <td>-0.876590</td>\n",
       "    </tr>\n",
       "    <tr>\n",
       "      <th>KM</th>\n",
       "      <td>0.505672</td>\n",
       "      <td>1.000000</td>\n",
       "      <td>-0.333538</td>\n",
       "      <td>0.102683</td>\n",
       "      <td>-0.036197</td>\n",
       "      <td>0.015023</td>\n",
       "      <td>0.278165</td>\n",
       "      <td>-0.028598</td>\n",
       "      <td>-0.569960</td>\n",
       "    </tr>\n",
       "    <tr>\n",
       "      <th>HP</th>\n",
       "      <td>-0.156622</td>\n",
       "      <td>-0.333538</td>\n",
       "      <td>1.000000</td>\n",
       "      <td>0.035856</td>\n",
       "      <td>0.092424</td>\n",
       "      <td>0.209477</td>\n",
       "      <td>-0.298432</td>\n",
       "      <td>0.089614</td>\n",
       "      <td>0.314990</td>\n",
       "    </tr>\n",
       "    <tr>\n",
       "      <th>cc</th>\n",
       "      <td>-0.098084</td>\n",
       "      <td>0.102683</td>\n",
       "      <td>0.035856</td>\n",
       "      <td>1.000000</td>\n",
       "      <td>0.079903</td>\n",
       "      <td>0.014629</td>\n",
       "      <td>0.306996</td>\n",
       "      <td>0.335637</td>\n",
       "      <td>0.126389</td>\n",
       "    </tr>\n",
       "    <tr>\n",
       "      <th>Doors</th>\n",
       "      <td>-0.148359</td>\n",
       "      <td>-0.036197</td>\n",
       "      <td>0.092424</td>\n",
       "      <td>0.079903</td>\n",
       "      <td>1.000000</td>\n",
       "      <td>-0.160141</td>\n",
       "      <td>0.109363</td>\n",
       "      <td>0.302618</td>\n",
       "      <td>0.185326</td>\n",
       "    </tr>\n",
       "    <tr>\n",
       "      <th>Gears</th>\n",
       "      <td>-0.005364</td>\n",
       "      <td>0.015023</td>\n",
       "      <td>0.209477</td>\n",
       "      <td>0.014629</td>\n",
       "      <td>-0.160141</td>\n",
       "      <td>1.000000</td>\n",
       "      <td>-0.005452</td>\n",
       "      <td>0.020613</td>\n",
       "      <td>0.063104</td>\n",
       "    </tr>\n",
       "    <tr>\n",
       "      <th>Quarterly_Tax</th>\n",
       "      <td>-0.198431</td>\n",
       "      <td>0.278165</td>\n",
       "      <td>-0.298432</td>\n",
       "      <td>0.306996</td>\n",
       "      <td>0.109363</td>\n",
       "      <td>-0.005452</td>\n",
       "      <td>1.000000</td>\n",
       "      <td>0.626134</td>\n",
       "      <td>0.219197</td>\n",
       "    </tr>\n",
       "    <tr>\n",
       "      <th>Weight</th>\n",
       "      <td>-0.470253</td>\n",
       "      <td>-0.028598</td>\n",
       "      <td>0.089614</td>\n",
       "      <td>0.335637</td>\n",
       "      <td>0.302618</td>\n",
       "      <td>0.020613</td>\n",
       "      <td>0.626134</td>\n",
       "      <td>1.000000</td>\n",
       "      <td>0.581198</td>\n",
       "    </tr>\n",
       "    <tr>\n",
       "      <th>Price</th>\n",
       "      <td>-0.876590</td>\n",
       "      <td>-0.569960</td>\n",
       "      <td>0.314990</td>\n",
       "      <td>0.126389</td>\n",
       "      <td>0.185326</td>\n",
       "      <td>0.063104</td>\n",
       "      <td>0.219197</td>\n",
       "      <td>0.581198</td>\n",
       "      <td>1.000000</td>\n",
       "    </tr>\n",
       "  </tbody>\n",
       "</table>\n",
       "</div>"
      ],
      "text/plain": [
       "               age_months        KM        HP        cc     Doors     Gears  Quarterly_Tax    Weight     Price\n",
       "age_months       1.000000  0.505672 -0.156622 -0.098084 -0.148359 -0.005364      -0.198431 -0.470253 -0.876590\n",
       "KM               0.505672  1.000000 -0.333538  0.102683 -0.036197  0.015023       0.278165 -0.028598 -0.569960\n",
       "HP              -0.156622 -0.333538  1.000000  0.035856  0.092424  0.209477      -0.298432  0.089614  0.314990\n",
       "cc              -0.098084  0.102683  0.035856  1.000000  0.079903  0.014629       0.306996  0.335637  0.126389\n",
       "Doors           -0.148359 -0.036197  0.092424  0.079903  1.000000 -0.160141       0.109363  0.302618  0.185326\n",
       "Gears           -0.005364  0.015023  0.209477  0.014629 -0.160141  1.000000      -0.005452  0.020613  0.063104\n",
       "Quarterly_Tax   -0.198431  0.278165 -0.298432  0.306996  0.109363 -0.005452       1.000000  0.626134  0.219197\n",
       "Weight          -0.470253 -0.028598  0.089614  0.335637  0.302618  0.020613       0.626134  1.000000  0.581198\n",
       "Price           -0.876590 -0.569960  0.314990  0.126389  0.185326  0.063104       0.219197  0.581198  1.000000"
      ]
     },
     "execution_count": 31,
     "metadata": {},
     "output_type": "execute_result"
    }
   ],
   "source": [
    "car_ds.corr()\n",
    "\n",
    "# only price and age_months are having strength of 87% (inversely related)\n",
    "# all other variables are independent of each other"
   ]
  },
  {
   "cell_type": "code",
   "execution_count": 25,
   "id": "2ef84773",
   "metadata": {
    "ExecuteTime": {
     "end_time": "2022-05-04T06:02:03.910209Z",
     "start_time": "2022-05-04T06:02:03.728636Z"
    },
    "hidden": true
   },
   "outputs": [
    {
     "data": {
      "text/plain": [
       "<matplotlib.collections.PathCollection at 0x241f9ffc700>"
      ]
     },
     "execution_count": 25,
     "metadata": {},
     "output_type": "execute_result"
    },
    {
     "data": {
      "image/png": "[encoded data removed]",
      "text/plain": [
       "<Figure size 432x288 with 1 Axes>"
      ]
     },
     "metadata": {
      "needs_background": "light"
     },
     "output_type": "display_data"
    }
   ],
   "source": [
    "# checking scatter plot for 2 variables at a time\n",
    "plt.scatter('age_months','Price', data=car_ds)"
   ]
  },
  {
   "cell_type": "code",
   "execution_count": 24,
   "id": "6548069b",
   "metadata": {
    "ExecuteTime": {
     "end_time": "2022-05-04T06:01:59.310546Z",
     "start_time": "2022-05-04T06:01:59.152696Z"
    },
    "hidden": true
   },
   "outputs": [
    {
     "data": {
      "text/plain": [
       "<matplotlib.collections.PathCollection at 0x241fa06e9a0>"
      ]
     },
     "execution_count": 24,
     "metadata": {},
     "output_type": "execute_result"
    },
    {
     "data": {
      "image/png": "[encoded data removed]",
      "text/plain": [
       "<Figure size 432x288 with 1 Axes>"
      ]
     },
     "metadata": {
      "needs_background": "light"
     },
     "output_type": "display_data"
    }
   ],
   "source": [
    "plt.scatter('KM','Price', data=car_ds)"
   ]
  },
  {
   "cell_type": "code",
   "execution_count": 26,
   "id": "9a08a9f8",
   "metadata": {
    "ExecuteTime": {
     "end_time": "2022-05-04T06:02:28.522216Z",
     "start_time": "2022-05-04T06:02:28.344335Z"
    },
    "hidden": true
   },
   "outputs": [
    {
     "data": {
      "text/plain": [
       "<matplotlib.collections.PathCollection at 0x241fa13e8b0>"
      ]
     },
     "execution_count": 26,
     "metadata": {},
     "output_type": "execute_result"
    },
    {
     "data": {
      "image/png": "[encoded data removed]",
      "text/plain": [
       "<Figure size 432x288 with 1 Axes>"
      ]
     },
     "metadata": {
      "needs_background": "light"
     },
     "output_type": "display_data"
    }
   ],
   "source": [
    "plt.scatter('Gears','Price', data=car_ds)"
   ]
  },
  {
   "cell_type": "code",
   "execution_count": 27,
   "id": "714c3629",
   "metadata": {
    "ExecuteTime": {
     "end_time": "2022-05-04T06:03:13.907457Z",
     "start_time": "2022-05-04T06:03:13.742770Z"
    },
    "hidden": true
   },
   "outputs": [
    {
     "data": {
      "text/plain": [
       "<matplotlib.collections.PathCollection at 0x241fa184c10>"
      ]
     },
     "execution_count": 27,
     "metadata": {},
     "output_type": "execute_result"
    },
    {
     "data": {
      "image/png": "[encoded data removed]",
      "text/plain": [
       "<Figure size 432x288 with 1 Axes>"
      ]
     },
     "metadata": {
      "needs_background": "light"
     },
     "output_type": "display_data"
    }
   ],
   "source": [
    "plt.scatter('Quarterly_Tax','Price', data=car_ds)"
   ]
  },
  {
   "cell_type": "code",
   "execution_count": 30,
   "id": "9c0d2850",
   "metadata": {
    "ExecuteTime": {
     "end_time": "2022-05-04T06:04:19.075863Z",
     "start_time": "2022-05-04T06:04:18.902962Z"
    },
    "hidden": true
   },
   "outputs": [
    {
     "data": {
      "text/plain": [
       "<matplotlib.collections.PathCollection at 0x241f9e2e790>"
      ]
     },
     "execution_count": 30,
     "metadata": {},
     "output_type": "execute_result"
    },
    {
     "data": {
      "image/png": "[encoded data removed]",
      "text/plain": [
       "<Figure size 432x288 with 1 Axes>"
      ]
     },
     "metadata": {
      "needs_background": "light"
     },
     "output_type": "display_data"
    }
   ],
   "source": [
    "plt.scatter(car_ds.Weight,car_ds.Price)"
   ]
  },
  {
   "cell_type": "code",
   "execution_count": 38,
   "id": "8fa72de5",
   "metadata": {
    "ExecuteTime": {
     "end_time": "2022-05-04T06:09:34.954192Z",
     "start_time": "2022-05-04T06:09:34.331055Z"
    },
    "hidden": true
   },
   "outputs": [
    {
     "data": {
      "text/plain": [
       "<AxesSubplot:>"
      ]
     },
     "execution_count": 38,
     "metadata": {},
     "output_type": "execute_result"
    },
    {
     "data": {
      "image/png": "[encoded data removed]",
      "text/plain": [
       "<Figure size 720x504 with 2 Axes>"
      ]
     },
     "metadata": {
      "needs_background": "light"
     },
     "output_type": "display_data"
    }
   ],
   "source": [
    "plt.figure(figsize=(10,7))\n",
    "sns.heatmap(car_ds.corr(), cmap='magma', annot=True, fmt=\".2f\")\n",
    "\n",
    "# from heatmap darker shade ie price and age_months are showing multicollinearity"
   ]
  },
  {
   "cell_type": "code",
   "execution_count": 41,
   "id": "aa6a495b",
   "metadata": {
    "ExecuteTime": {
     "end_time": "2022-05-04T06:26:31.638458Z",
     "start_time": "2022-05-04T06:26:31.508910Z"
    },
    "hidden": true
   },
   "outputs": [
    {
     "data": {
      "text/plain": [
       "{'whiskers': [<matplotlib.lines.Line2D at 0x241f87d0b80>,\n",
       "  <matplotlib.lines.Line2D at 0x241f87dff40>],\n",
       " 'caps': [<matplotlib.lines.Line2D at 0x241f8c53850>,\n",
       "  <matplotlib.lines.Line2D at 0x241f8c67dc0>],\n",
       " 'boxes': [<matplotlib.lines.Line2D at 0x241f9d60430>],\n",
       " 'medians': [<matplotlib.lines.Line2D at 0x241f8c632b0>],\n",
       " 'fliers': [<matplotlib.lines.Line2D at 0x241f8b5daf0>],\n",
       " 'means': []}"
      ]
     },
     "execution_count": 41,
     "metadata": {},
     "output_type": "execute_result"
    },
    {
     "data": {
      "image/png": "[encoded data removed]",
      "text/plain": [
       "<Figure size 432x288 with 1 Axes>"
      ]
     },
     "metadata": {
      "needs_background": "light"
     },
     "output_type": "display_data"
    }
   ],
   "source": [
    "plt.boxplot(car_ds.age_months, vert=False)"
   ]
  },
  {
   "cell_type": "code",
   "execution_count": 48,
   "id": "e1c5aa80",
   "metadata": {
    "ExecuteTime": {
     "end_time": "2022-05-04T06:29:01.512436Z",
     "start_time": "2022-05-04T06:29:01.378123Z"
    },
    "hidden": true
   },
   "outputs": [
    {
     "data": {
      "text/plain": [
       "{'whiskers': [<matplotlib.lines.Line2D at 0x241f9efe9d0>,\n",
       "  <matplotlib.lines.Line2D at 0x241f9efee80>],\n",
       " 'caps': [<matplotlib.lines.Line2D at 0x241f9f031c0>,\n",
       "  <matplotlib.lines.Line2D at 0x241f9f03940>],\n",
       " 'boxes': [<matplotlib.lines.Line2D at 0x241f9efe880>],\n",
       " 'medians': [<matplotlib.lines.Line2D at 0x241f9f03730>],\n",
       " 'fliers': [<matplotlib.lines.Line2D at 0x241f9f03550>],\n",
       " 'means': []}"
      ]
     },
     "execution_count": 48,
     "metadata": {},
     "output_type": "execute_result"
    },
    {
     "data": {
      "image/png": "[encoded data removed]",
      "text/plain": [
       "<Figure size 432x288 with 1 Axes>"
      ]
     },
     "metadata": {
      "needs_background": "light"
     },
     "output_type": "display_data"
    }
   ],
   "source": [
    "plt.boxplot(car_ds.Weight, vert=False)"
   ]
  },
  {
   "cell_type": "code",
   "execution_count": 47,
   "id": "8ad6e4f0",
   "metadata": {
    "ExecuteTime": {
     "end_time": "2022-05-04T06:29:00.592446Z",
     "start_time": "2022-05-04T06:29:00.466259Z"
    },
    "hidden": true
   },
   "outputs": [
    {
     "data": {
      "text/plain": [
       "{'whiskers': [<matplotlib.lines.Line2D at 0x241f9e5b400>,\n",
       "  <matplotlib.lines.Line2D at 0x241f9e5d130>],\n",
       " 'caps': [<matplotlib.lines.Line2D at 0x241f9e73760>,\n",
       "  <matplotlib.lines.Line2D at 0x241f9e73520>],\n",
       " 'boxes': [<matplotlib.lines.Line2D at 0x241f9e5b7c0>],\n",
       " 'medians': [<matplotlib.lines.Line2D at 0x241f9e7b820>],\n",
       " 'fliers': [<matplotlib.lines.Line2D at 0x241f9e7bdf0>],\n",
       " 'means': []}"
      ]
     },
     "execution_count": 47,
     "metadata": {},
     "output_type": "execute_result"
    },
    {
     "data": {
      "image/png": "[encoded data removed]",
      "text/plain": [
       "<Figure size 432x288 with 1 Axes>"
      ]
     },
     "metadata": {
      "needs_background": "light"
     },
     "output_type": "display_data"
    }
   ],
   "source": [
    "plt.boxplot(car_ds.KM, vert=False)"
   ]
  },
  {
   "cell_type": "code",
   "execution_count": 46,
   "id": "ec25fb9c",
   "metadata": {
    "ExecuteTime": {
     "end_time": "2022-05-04T06:28:59.284545Z",
     "start_time": "2022-05-04T06:28:59.170029Z"
    },
    "hidden": true
   },
   "outputs": [
    {
     "data": {
      "text/plain": [
       "{'whiskers': [<matplotlib.lines.Line2D at 0x241f9d9c9a0>,\n",
       "  <matplotlib.lines.Line2D at 0x241f9d9c2b0>],\n",
       " 'caps': [<matplotlib.lines.Line2D at 0x241f9e2a790>,\n",
       "  <matplotlib.lines.Line2D at 0x241f9e2aeb0>],\n",
       " 'boxes': [<matplotlib.lines.Line2D at 0x241f9d9c8e0>],\n",
       " 'medians': [<matplotlib.lines.Line2D at 0x241f9d95bb0>],\n",
       " 'fliers': [<matplotlib.lines.Line2D at 0x241f9d95e50>],\n",
       " 'means': []}"
      ]
     },
     "execution_count": 46,
     "metadata": {},
     "output_type": "execute_result"
    },
    {
     "data": {
      "image/png": "[encoded data removed]",
      "text/plain": [
       "<Figure size 432x288 with 1 Axes>"
      ]
     },
     "metadata": {
      "needs_background": "light"
     },
     "output_type": "display_data"
    }
   ],
   "source": [
    "plt.boxplot(car_ds.HP, vert=False)"
   ]
  },
  {
   "cell_type": "code",
   "execution_count": 45,
   "id": "8daddc5e",
   "metadata": {
    "ExecuteTime": {
     "end_time": "2022-05-04T06:28:57.734693Z",
     "start_time": "2022-05-04T06:28:57.595206Z"
    },
    "hidden": true
   },
   "outputs": [
    {
     "data": {
      "text/plain": [
       "{'whiskers': [<matplotlib.lines.Line2D at 0x241f9e0bfd0>,\n",
       "  <matplotlib.lines.Line2D at 0x241f9da9b80>],\n",
       " 'caps': [<matplotlib.lines.Line2D at 0x241f9da9460>,\n",
       "  <matplotlib.lines.Line2D at 0x241f9da9760>],\n",
       " 'boxes': [<matplotlib.lines.Line2D at 0x241f9e0bc70>],\n",
       " 'medians': [<matplotlib.lines.Line2D at 0x241f9da95e0>],\n",
       " 'fliers': [<matplotlib.lines.Line2D at 0x241f9e08460>],\n",
       " 'means': []}"
      ]
     },
     "execution_count": 45,
     "metadata": {},
     "output_type": "execute_result"
    },
    {
     "data": {
      "image/png": "[encoded data removed]",
      "text/plain": [
       "<Figure size 432x288 with 1 Axes>"
      ]
     },
     "metadata": {
      "needs_background": "light"
     },
     "output_type": "display_data"
    }
   ],
   "source": [
    "plt.boxplot(car_ds.cc, vert=False)"
   ]
  },
  {
   "cell_type": "code",
   "execution_count": 44,
   "id": "c6566cd9",
   "metadata": {
    "ExecuteTime": {
     "end_time": "2022-05-04T06:28:34.987182Z",
     "start_time": "2022-05-04T06:28:34.867757Z"
    },
    "hidden": true
   },
   "outputs": [
    {
     "data": {
      "text/plain": [
       "{'whiskers': [<matplotlib.lines.Line2D at 0x241f8c5a130>,\n",
       "  <matplotlib.lines.Line2D at 0x241f8c5a280>],\n",
       " 'caps': [<matplotlib.lines.Line2D at 0x241f9dae940>,\n",
       "  <matplotlib.lines.Line2D at 0x241f9daec10>],\n",
       " 'boxes': [<matplotlib.lines.Line2D at 0x241f8ad1b20>],\n",
       " 'medians': [<matplotlib.lines.Line2D at 0x241f9dae820>],\n",
       " 'fliers': [<matplotlib.lines.Line2D at 0x241f9daec70>],\n",
       " 'means': []}"
      ]
     },
     "execution_count": 44,
     "metadata": {},
     "output_type": "execute_result"
    },
    {
     "data": {
      "image/png": "[encoded data removed]",
      "text/plain": [
       "<Figure size 432x288 with 1 Axes>"
      ]
     },
     "metadata": {
      "needs_background": "light"
     },
     "output_type": "display_data"
    }
   ],
   "source": [
    "plt.boxplot(car_ds.Doors, vert=False)"
   ]
  },
  {
   "cell_type": "code",
   "execution_count": 43,
   "id": "d6b483ca",
   "metadata": {
    "ExecuteTime": {
     "end_time": "2022-05-04T06:28:22.359074Z",
     "start_time": "2022-05-04T06:28:22.235775Z"
    },
    "hidden": true
   },
   "outputs": [
    {
     "data": {
      "text/plain": [
       "{'whiskers': [<matplotlib.lines.Line2D at 0x241f9c69730>,\n",
       "  <matplotlib.lines.Line2D at 0x241f9c69ee0>],\n",
       " 'caps': [<matplotlib.lines.Line2D at 0x241f8acfaf0>,\n",
       "  <matplotlib.lines.Line2D at 0x241f8acf310>],\n",
       " 'boxes': [<matplotlib.lines.Line2D at 0x241fbd211c0>],\n",
       " 'medians': [<matplotlib.lines.Line2D at 0x241f8acfb20>],\n",
       " 'fliers': [<matplotlib.lines.Line2D at 0x241f893c070>],\n",
       " 'means': []}"
      ]
     },
     "execution_count": 43,
     "metadata": {},
     "output_type": "execute_result"
    },
    {
     "data": {
      "image/png": "[encoded data removed]",
      "text/plain": [
       "<Figure size 432x288 with 1 Axes>"
      ]
     },
     "metadata": {
      "needs_background": "light"
     },
     "output_type": "display_data"
    }
   ],
   "source": [
    "plt.boxplot(car_ds.Gears, vert=False)"
   ]
  },
  {
   "cell_type": "code",
   "execution_count": 42,
   "id": "87b16a8d",
   "metadata": {
    "ExecuteTime": {
     "end_time": "2022-05-04T06:28:14.341040Z",
     "start_time": "2022-05-04T06:28:14.228013Z"
    },
    "hidden": true
   },
   "outputs": [
    {
     "data": {
      "text/plain": [
       "{'whiskers': [<matplotlib.lines.Line2D at 0x241f9fa0100>,\n",
       "  <matplotlib.lines.Line2D at 0x241f9fa0fd0>],\n",
       " 'caps': [<matplotlib.lines.Line2D at 0x241f9fdcd00>,\n",
       "  <matplotlib.lines.Line2D at 0x241f9fdc0a0>],\n",
       " 'boxes': [<matplotlib.lines.Line2D at 0x241f9fbb370>],\n",
       " 'medians': [<matplotlib.lines.Line2D at 0x241f9fdcbe0>],\n",
       " 'fliers': [<matplotlib.lines.Line2D at 0x241f9f9bf10>],\n",
       " 'means': []}"
      ]
     },
     "execution_count": 42,
     "metadata": {},
     "output_type": "execute_result"
    },
    {
     "data": {
      "image/png": "[encoded data removed]",
      "text/plain": [
       "<Figure size 432x288 with 1 Axes>"
      ]
     },
     "metadata": {
      "needs_background": "light"
     },
     "output_type": "display_data"
    }
   ],
   "source": [
    "plt.boxplot(car_ds.Quarterly_Tax, vert=False)"
   ]
  },
  {
   "cell_type": "markdown",
   "id": "a2de14dc",
   "metadata": {},
   "source": [
    "### Model Building"
   ]
  },
  {
   "cell_type": "markdown",
   "id": "48be87f3",
   "metadata": {},
   "source": [
    "#### Using stats model"
   ]
  },
  {
   "cell_type": "code",
   "execution_count": 86,
   "id": "94d71be6",
   "metadata": {
    "ExecuteTime": {
     "end_time": "2022-05-04T07:07:28.273233Z",
     "start_time": "2022-05-04T07:07:28.239255Z"
    }
   },
   "outputs": [
    {
     "data": {
      "text/plain": [
       "Intercept       -5573.106358\n",
       "age_months       -121.658402\n",
       "KM                 -0.020817\n",
       "HP                 31.680906\n",
       "cc                 -0.121100\n",
       "Doors              -1.616641\n",
       "Gears             594.319936\n",
       "Quarterly_Tax       3.949081\n",
       "Weight             16.958632\n",
       "dtype: float64"
      ]
     },
     "execution_count": 86,
     "metadata": {},
     "output_type": "execute_result"
    }
   ],
   "source": [
    "model = smf.ols('Price~age_months+KM+HP+cc+Doors+Gears+Quarterly_Tax+Weight', data=car_ds).fit()\n",
    "model.params"
   ]
  },
  {
   "cell_type": "code",
   "execution_count": 87,
   "id": "0ec92bc3",
   "metadata": {
    "ExecuteTime": {
     "end_time": "2022-05-04T07:07:30.551794Z",
     "start_time": "2022-05-04T07:07:30.519815Z"
    }
   },
   "outputs": [
    {
     "data": {
      "text/html": [
       "<table class=\"simpletable\">\n",
       "<caption>OLS Regression Results</caption>\n",
       "<tr>\n",
       "  <th>Dep. Variable:</th>          <td>Price</td>      <th>  R-squared:         </th> <td>   0.864</td> \n",
       "</tr>\n",
       "<tr>\n",
       "  <th>Model:</th>                   <td>OLS</td>       <th>  Adj. R-squared:    </th> <td>   0.863</td> \n",
       "</tr>\n",
       "<tr>\n",
       "  <th>Method:</th>             <td>Least Squares</td>  <th>  F-statistic:       </th> <td>   1131.</td> \n",
       "</tr>\n",
       "<tr>\n",
       "  <th>Date:</th>             <td>Wed, 04 May 2022</td> <th>  Prob (F-statistic):</th>  <td>  0.00</td>  \n",
       "</tr>\n",
       "<tr>\n",
       "  <th>Time:</th>                 <td>12:37:30</td>     <th>  Log-Likelihood:    </th> <td> -12376.</td> \n",
       "</tr>\n",
       "<tr>\n",
       "  <th>No. Observations:</th>      <td>  1436</td>      <th>  AIC:               </th> <td>2.477e+04</td>\n",
       "</tr>\n",
       "<tr>\n",
       "  <th>Df Residuals:</th>          <td>  1427</td>      <th>  BIC:               </th> <td>2.482e+04</td>\n",
       "</tr>\n",
       "<tr>\n",
       "  <th>Df Model:</th>              <td>     8</td>      <th>                     </th>     <td> </td>    \n",
       "</tr>\n",
       "<tr>\n",
       "  <th>Covariance Type:</th>      <td>nonrobust</td>    <th>                     </th>     <td> </td>    \n",
       "</tr>\n",
       "</table>\n",
       "<table class=\"simpletable\">\n",
       "<tr>\n",
       "        <td></td>           <th>coef</th>     <th>std err</th>      <th>t</th>      <th>P>|t|</th>  <th>[0.025</th>    <th>0.975]</th>  \n",
       "</tr>\n",
       "<tr>\n",
       "  <th>Intercept</th>     <td>-5573.1064</td> <td> 1411.390</td> <td>   -3.949</td> <td> 0.000</td> <td>-8341.728</td> <td>-2804.485</td>\n",
       "</tr>\n",
       "<tr>\n",
       "  <th>age_months</th>    <td> -121.6584</td> <td>    2.616</td> <td>  -46.512</td> <td> 0.000</td> <td> -126.789</td> <td> -116.527</td>\n",
       "</tr>\n",
       "<tr>\n",
       "  <th>KM</th>            <td>   -0.0208</td> <td>    0.001</td> <td>  -16.622</td> <td> 0.000</td> <td>   -0.023</td> <td>   -0.018</td>\n",
       "</tr>\n",
       "<tr>\n",
       "  <th>HP</th>            <td>   31.6809</td> <td>    2.818</td> <td>   11.241</td> <td> 0.000</td> <td>   26.152</td> <td>   37.209</td>\n",
       "</tr>\n",
       "<tr>\n",
       "  <th>cc</th>            <td>   -0.1211</td> <td>    0.090</td> <td>   -1.344</td> <td> 0.179</td> <td>   -0.298</td> <td>    0.056</td>\n",
       "</tr>\n",
       "<tr>\n",
       "  <th>Doors</th>         <td>   -1.6166</td> <td>   40.006</td> <td>   -0.040</td> <td> 0.968</td> <td>  -80.093</td> <td>   76.859</td>\n",
       "</tr>\n",
       "<tr>\n",
       "  <th>Gears</th>         <td>  594.3199</td> <td>  197.055</td> <td>    3.016</td> <td> 0.003</td> <td>  207.771</td> <td>  980.869</td>\n",
       "</tr>\n",
       "<tr>\n",
       "  <th>Quarterly_Tax</th> <td>    3.9491</td> <td>    1.310</td> <td>    3.015</td> <td> 0.003</td> <td>    1.379</td> <td>    6.519</td>\n",
       "</tr>\n",
       "<tr>\n",
       "  <th>Weight</th>        <td>   16.9586</td> <td>    1.068</td> <td>   15.880</td> <td> 0.000</td> <td>   14.864</td> <td>   19.054</td>\n",
       "</tr>\n",
       "</table>\n",
       "<table class=\"simpletable\">\n",
       "<tr>\n",
       "  <th>Omnibus:</th>       <td>151.719</td> <th>  Durbin-Watson:     </th> <td>   1.543</td> \n",
       "</tr>\n",
       "<tr>\n",
       "  <th>Prob(Omnibus):</th> <td> 0.000</td>  <th>  Jarque-Bera (JB):  </th> <td>1011.853</td> \n",
       "</tr>\n",
       "<tr>\n",
       "  <th>Skew:</th>          <td>-0.219</td>  <th>  Prob(JB):          </th> <td>1.90e-220</td>\n",
       "</tr>\n",
       "<tr>\n",
       "  <th>Kurtosis:</th>      <td> 7.089</td>  <th>  Cond. No.          </th> <td>3.13e+06</td> \n",
       "</tr>\n",
       "</table><br/><br/>Notes:<br/>[1] Standard Errors assume that the covariance matrix of the errors is correctly specified.<br/>[2] The condition number is large, 3.13e+06. This might indicate that there are<br/>strong multicollinearity or other numerical problems."
      ],
      "text/plain": [
       "<class 'statsmodels.iolib.summary.Summary'>\n",
       "\"\"\"\n",
       "                            OLS Regression Results                            \n",
       "==============================================================================\n",
       "Dep. Variable:                  Price   R-squared:                       0.864\n",
       "Model:                            OLS   Adj. R-squared:                  0.863\n",
       "Method:                 Least Squares   F-statistic:                     1131.\n",
       "Date:                Wed, 04 May 2022   Prob (F-statistic):               0.00\n",
       "Time:                        12:37:30   Log-Likelihood:                -12376.\n",
       "No. Observations:                1436   AIC:                         2.477e+04\n",
       "Df Residuals:                    1427   BIC:                         2.482e+04\n",
       "Df Model:                           8                                         \n",
       "Covariance Type:            nonrobust                                         \n",
       "=================================================================================\n",
       "                    coef    std err          t      P>|t|      [0.025      0.975]\n",
       "---------------------------------------------------------------------------------\n",
       "Intercept     -5573.1064   1411.390     -3.949      0.000   -8341.728   -2804.485\n",
       "age_months     -121.6584      2.616    -46.512      0.000    -126.789    -116.527\n",
       "KM               -0.0208      0.001    -16.622      0.000      -0.023      -0.018\n",
       "HP               31.6809      2.818     11.241      0.000      26.152      37.209\n",
       "cc               -0.1211      0.090     -1.344      0.179      -0.298       0.056\n",
       "Doors            -1.6166     40.006     -0.040      0.968     -80.093      76.859\n",
       "Gears           594.3199    197.055      3.016      0.003     207.771     980.869\n",
       "Quarterly_Tax     3.9491      1.310      3.015      0.003       1.379       6.519\n",
       "Weight           16.9586      1.068     15.880      0.000      14.864      19.054\n",
       "==============================================================================\n",
       "Omnibus:                      151.719   Durbin-Watson:                   1.543\n",
       "Prob(Omnibus):                  0.000   Jarque-Bera (JB):             1011.853\n",
       "Skew:                          -0.219   Prob(JB):                    1.90e-220\n",
       "Kurtosis:                       7.089   Cond. No.                     3.13e+06\n",
       "==============================================================================\n",
       "\n",
       "Notes:\n",
       "[1] Standard Errors assume that the covariance matrix of the errors is correctly specified.\n",
       "[2] The condition number is large, 3.13e+06. This might indicate that there are\n",
       "strong multicollinearity or other numerical problems.\n",
       "\"\"\""
      ]
     },
     "execution_count": 87,
     "metadata": {},
     "output_type": "execute_result"
    }
   ],
   "source": [
    "model.summary()"
   ]
  },
  {
   "cell_type": "code",
   "execution_count": 88,
   "id": "a09aec87",
   "metadata": {
    "ExecuteTime": {
     "end_time": "2022-05-04T07:07:33.381774Z",
     "start_time": "2022-05-04T07:07:33.366786Z"
    }
   },
   "outputs": [
    {
     "data": {
      "text/plain": [
       "Intercept         8.241949e-05\n",
       "age_months       3.354724e-288\n",
       "KM                7.538439e-57\n",
       "HP                3.757218e-28\n",
       "cc                1.790902e-01\n",
       "Doors             9.677716e-01\n",
       "Gears             2.606549e-03\n",
       "Quarterly_Tax     2.619148e-03\n",
       "Weight            2.048576e-52\n",
       "dtype: float64"
      ]
     },
     "execution_count": 88,
     "metadata": {},
     "output_type": "execute_result"
    }
   ],
   "source": [
    "model.pvalues\n",
    "# pvalues of all variables is < 0.05\n",
    "# for cc and doors pvalues > 0.05 ie these 2 variables are insignificant"
   ]
  },
  {
   "cell_type": "markdown",
   "id": "749e0399",
   "metadata": {},
   "source": [
    "#### Since pvalues of cc & door variables are insignificant \n",
    "therefore checking them separately"
   ]
  },
  {
   "cell_type": "code",
   "execution_count": 89,
   "id": "a0fe2ebd",
   "metadata": {
    "ExecuteTime": {
     "end_time": "2022-05-04T07:07:35.278990Z",
     "start_time": "2022-05-04T07:07:35.247012Z"
    }
   },
   "outputs": [
    {
     "data": {
      "text/html": [
       "<table class=\"simpletable\">\n",
       "<caption>OLS Regression Results</caption>\n",
       "<tr>\n",
       "  <th>Dep. Variable:</th>          <td>Price</td>      <th>  R-squared:         </th> <td>   0.016</td> \n",
       "</tr>\n",
       "<tr>\n",
       "  <th>Model:</th>                   <td>OLS</td>       <th>  Adj. R-squared:    </th> <td>   0.015</td> \n",
       "</tr>\n",
       "<tr>\n",
       "  <th>Method:</th>             <td>Least Squares</td>  <th>  F-statistic:       </th> <td>   23.28</td> \n",
       "</tr>\n",
       "<tr>\n",
       "  <th>Date:</th>             <td>Wed, 04 May 2022</td> <th>  Prob (F-statistic):</th> <td>1.55e-06</td> \n",
       "</tr>\n",
       "<tr>\n",
       "  <th>Time:</th>                 <td>12:37:35</td>     <th>  Log-Likelihood:    </th> <td> -13795.</td> \n",
       "</tr>\n",
       "<tr>\n",
       "  <th>No. Observations:</th>      <td>  1436</td>      <th>  AIC:               </th> <td>2.759e+04</td>\n",
       "</tr>\n",
       "<tr>\n",
       "  <th>Df Residuals:</th>          <td>  1434</td>      <th>  BIC:               </th> <td>2.760e+04</td>\n",
       "</tr>\n",
       "<tr>\n",
       "  <th>Df Model:</th>              <td>     1</td>      <th>                     </th>     <td> </td>    \n",
       "</tr>\n",
       "<tr>\n",
       "  <th>Covariance Type:</th>      <td>nonrobust</td>    <th>                     </th>     <td> </td>    \n",
       "</tr>\n",
       "</table>\n",
       "<table class=\"simpletable\">\n",
       "<tr>\n",
       "      <td></td>         <th>coef</th>     <th>std err</th>      <th>t</th>      <th>P>|t|</th>  <th>[0.025</th>    <th>0.975]</th>  \n",
       "</tr>\n",
       "<tr>\n",
       "  <th>Intercept</th> <td> 9027.5548</td> <td>  365.576</td> <td>   24.694</td> <td> 0.000</td> <td> 8310.435</td> <td> 9744.675</td>\n",
       "</tr>\n",
       "<tr>\n",
       "  <th>cc</th>        <td>    1.0802</td> <td>    0.224</td> <td>    4.825</td> <td> 0.000</td> <td>    0.641</td> <td>    1.519</td>\n",
       "</tr>\n",
       "</table>\n",
       "<table class=\"simpletable\">\n",
       "<tr>\n",
       "  <th>Omnibus:</th>       <td>465.181</td> <th>  Durbin-Watson:     </th> <td>   0.267</td> \n",
       "</tr>\n",
       "<tr>\n",
       "  <th>Prob(Omnibus):</th> <td> 0.000</td>  <th>  Jarque-Bera (JB):  </th> <td>1390.401</td> \n",
       "</tr>\n",
       "<tr>\n",
       "  <th>Skew:</th>          <td> 1.649</td>  <th>  Prob(JB):          </th> <td>1.20e-302</td>\n",
       "</tr>\n",
       "<tr>\n",
       "  <th>Kurtosis:</th>      <td> 6.516</td>  <th>  Cond. No.          </th> <td>6.29e+03</td> \n",
       "</tr>\n",
       "</table><br/><br/>Notes:<br/>[1] Standard Errors assume that the covariance matrix of the errors is correctly specified.<br/>[2] The condition number is large, 6.29e+03. This might indicate that there are<br/>strong multicollinearity or other numerical problems."
      ],
      "text/plain": [
       "<class 'statsmodels.iolib.summary.Summary'>\n",
       "\"\"\"\n",
       "                            OLS Regression Results                            \n",
       "==============================================================================\n",
       "Dep. Variable:                  Price   R-squared:                       0.016\n",
       "Model:                            OLS   Adj. R-squared:                  0.015\n",
       "Method:                 Least Squares   F-statistic:                     23.28\n",
       "Date:                Wed, 04 May 2022   Prob (F-statistic):           1.55e-06\n",
       "Time:                        12:37:35   Log-Likelihood:                -13795.\n",
       "No. Observations:                1436   AIC:                         2.759e+04\n",
       "Df Residuals:                    1434   BIC:                         2.760e+04\n",
       "Df Model:                           1                                         \n",
       "Covariance Type:            nonrobust                                         \n",
       "==============================================================================\n",
       "                 coef    std err          t      P>|t|      [0.025      0.975]\n",
       "------------------------------------------------------------------------------\n",
       "Intercept   9027.5548    365.576     24.694      0.000    8310.435    9744.675\n",
       "cc             1.0802      0.224      4.825      0.000       0.641       1.519\n",
       "==============================================================================\n",
       "Omnibus:                      465.181   Durbin-Watson:                   0.267\n",
       "Prob(Omnibus):                  0.000   Jarque-Bera (JB):             1390.401\n",
       "Skew:                           1.649   Prob(JB):                    1.20e-302\n",
       "Kurtosis:                       6.516   Cond. No.                     6.29e+03\n",
       "==============================================================================\n",
       "\n",
       "Notes:\n",
       "[1] Standard Errors assume that the covariance matrix of the errors is correctly specified.\n",
       "[2] The condition number is large, 6.29e+03. This might indicate that there are\n",
       "strong multicollinearity or other numerical problems.\n",
       "\"\"\""
      ]
     },
     "execution_count": 89,
     "metadata": {},
     "output_type": "execute_result"
    }
   ],
   "source": [
    "model_cc = smf.ols('Price~cc', data=car_ds).fit()\n",
    "model_cc.summary()"
   ]
  },
  {
   "cell_type": "code",
   "execution_count": 90,
   "id": "12cb5731",
   "metadata": {
    "ExecuteTime": {
     "end_time": "2022-05-04T07:07:37.818656Z",
     "start_time": "2022-05-04T07:07:37.799669Z"
    }
   },
   "outputs": [
    {
     "data": {
      "text/plain": [
       "Intercept    1.766912e-112\n",
       "cc            1.550808e-06\n",
       "dtype: float64"
      ]
     },
     "execution_count": 90,
     "metadata": {},
     "output_type": "execute_result"
    }
   ],
   "source": [
    "model_cc.pvalues"
   ]
  },
  {
   "cell_type": "code",
   "execution_count": 91,
   "id": "72c88ade",
   "metadata": {
    "ExecuteTime": {
     "end_time": "2022-05-04T07:07:38.958122Z",
     "start_time": "2022-05-04T07:07:38.927142Z"
    }
   },
   "outputs": [
    {
     "data": {
      "text/html": [
       "<table class=\"simpletable\">\n",
       "<caption>OLS Regression Results</caption>\n",
       "<tr>\n",
       "  <th>Dep. Variable:</th>          <td>Price</td>      <th>  R-squared:         </th> <td>   0.034</td> \n",
       "</tr>\n",
       "<tr>\n",
       "  <th>Model:</th>                   <td>OLS</td>       <th>  Adj. R-squared:    </th> <td>   0.034</td> \n",
       "</tr>\n",
       "<tr>\n",
       "  <th>Method:</th>             <td>Least Squares</td>  <th>  F-statistic:       </th> <td>   51.00</td> \n",
       "</tr>\n",
       "<tr>\n",
       "  <th>Date:</th>             <td>Wed, 04 May 2022</td> <th>  Prob (F-statistic):</th> <td>1.46e-12</td> \n",
       "</tr>\n",
       "<tr>\n",
       "  <th>Time:</th>                 <td>12:37:38</td>     <th>  Log-Likelihood:    </th> <td> -13782.</td> \n",
       "</tr>\n",
       "<tr>\n",
       "  <th>No. Observations:</th>      <td>  1436</td>      <th>  AIC:               </th> <td>2.757e+04</td>\n",
       "</tr>\n",
       "<tr>\n",
       "  <th>Df Residuals:</th>          <td>  1434</td>      <th>  BIC:               </th> <td>2.758e+04</td>\n",
       "</tr>\n",
       "<tr>\n",
       "  <th>Df Model:</th>              <td>     1</td>      <th>                     </th>     <td> </td>    \n",
       "</tr>\n",
       "<tr>\n",
       "  <th>Covariance Type:</th>      <td>nonrobust</td>    <th>                     </th>     <td> </td>    \n",
       "</tr>\n",
       "</table>\n",
       "<table class=\"simpletable\">\n",
       "<tr>\n",
       "      <td></td>         <th>coef</th>     <th>std err</th>      <th>t</th>      <th>P>|t|</th>  <th>[0.025</th>    <th>0.975]</th>  \n",
       "</tr>\n",
       "<tr>\n",
       "  <th>Intercept</th> <td> 7885.0058</td> <td>  409.438</td> <td>   19.258</td> <td> 0.000</td> <td> 7081.843</td> <td> 8688.168</td>\n",
       "</tr>\n",
       "<tr>\n",
       "  <th>Doors</th>     <td>  705.5586</td> <td>   98.795</td> <td>    7.142</td> <td> 0.000</td> <td>  511.761</td> <td>  899.356</td>\n",
       "</tr>\n",
       "</table>\n",
       "<table class=\"simpletable\">\n",
       "<tr>\n",
       "  <th>Omnibus:</th>       <td>466.779</td> <th>  Durbin-Watson:     </th> <td>   0.287</td> \n",
       "</tr>\n",
       "<tr>\n",
       "  <th>Prob(Omnibus):</th> <td> 0.000</td>  <th>  Jarque-Bera (JB):  </th> <td>1406.209</td> \n",
       "</tr>\n",
       "<tr>\n",
       "  <th>Skew:</th>          <td> 1.651</td>  <th>  Prob(JB):          </th> <td>4.42e-306</td>\n",
       "</tr>\n",
       "<tr>\n",
       "  <th>Kurtosis:</th>      <td> 6.549</td>  <th>  Cond. No.          </th> <td>    19.0</td> \n",
       "</tr>\n",
       "</table><br/><br/>Notes:<br/>[1] Standard Errors assume that the covariance matrix of the errors is correctly specified."
      ],
      "text/plain": [
       "<class 'statsmodels.iolib.summary.Summary'>\n",
       "\"\"\"\n",
       "                            OLS Regression Results                            \n",
       "==============================================================================\n",
       "Dep. Variable:                  Price   R-squared:                       0.034\n",
       "Model:                            OLS   Adj. R-squared:                  0.034\n",
       "Method:                 Least Squares   F-statistic:                     51.00\n",
       "Date:                Wed, 04 May 2022   Prob (F-statistic):           1.46e-12\n",
       "Time:                        12:37:38   Log-Likelihood:                -13782.\n",
       "No. Observations:                1436   AIC:                         2.757e+04\n",
       "Df Residuals:                    1434   BIC:                         2.758e+04\n",
       "Df Model:                           1                                         \n",
       "Covariance Type:            nonrobust                                         \n",
       "==============================================================================\n",
       "                 coef    std err          t      P>|t|      [0.025      0.975]\n",
       "------------------------------------------------------------------------------\n",
       "Intercept   7885.0058    409.438     19.258      0.000    7081.843    8688.168\n",
       "Doors        705.5586     98.795      7.142      0.000     511.761     899.356\n",
       "==============================================================================\n",
       "Omnibus:                      466.779   Durbin-Watson:                   0.287\n",
       "Prob(Omnibus):                  0.000   Jarque-Bera (JB):             1406.209\n",
       "Skew:                           1.651   Prob(JB):                    4.42e-306\n",
       "Kurtosis:                       6.549   Cond. No.                         19.0\n",
       "==============================================================================\n",
       "\n",
       "Notes:\n",
       "[1] Standard Errors assume that the covariance matrix of the errors is correctly specified.\n",
       "\"\"\""
      ]
     },
     "execution_count": 91,
     "metadata": {},
     "output_type": "execute_result"
    }
   ],
   "source": [
    "model_doors = smf.ols('Price~Doors', data=car_ds).fit()\n",
    "model_doors.summary()"
   ]
  },
  {
   "cell_type": "code",
   "execution_count": 92,
   "id": "803ebed0",
   "metadata": {
    "ExecuteTime": {
     "end_time": "2022-05-04T07:07:41.193939Z",
     "start_time": "2022-05-04T07:07:41.182945Z"
    }
   },
   "outputs": [
    {
     "data": {
      "text/plain": [
       "Intercept    1.094732e-73\n",
       "Doors        1.461237e-12\n",
       "dtype: float64"
      ]
     },
     "execution_count": 92,
     "metadata": {},
     "output_type": "execute_result"
    }
   ],
   "source": [
    "model_doors.pvalues"
   ]
  },
  {
   "cell_type": "code",
   "execution_count": 93,
   "id": "b164f682",
   "metadata": {
    "ExecuteTime": {
     "end_time": "2022-05-04T07:07:43.226646Z",
     "start_time": "2022-05-04T07:07:43.199663Z"
    }
   },
   "outputs": [
    {
     "data": {
      "text/html": [
       "<table class=\"simpletable\">\n",
       "<caption>OLS Regression Results</caption>\n",
       "<tr>\n",
       "  <th>Dep. Variable:</th>          <td>Price</td>      <th>  R-squared:         </th> <td>   0.047</td> \n",
       "</tr>\n",
       "<tr>\n",
       "  <th>Model:</th>                   <td>OLS</td>       <th>  Adj. R-squared:    </th> <td>   0.046</td> \n",
       "</tr>\n",
       "<tr>\n",
       "  <th>Method:</th>             <td>Least Squares</td>  <th>  F-statistic:       </th> <td>   35.24</td> \n",
       "</tr>\n",
       "<tr>\n",
       "  <th>Date:</th>             <td>Wed, 04 May 2022</td> <th>  Prob (F-statistic):</th> <td>1.15e-15</td> \n",
       "</tr>\n",
       "<tr>\n",
       "  <th>Time:</th>                 <td>12:37:43</td>     <th>  Log-Likelihood:    </th> <td> -13772.</td> \n",
       "</tr>\n",
       "<tr>\n",
       "  <th>No. Observations:</th>      <td>  1436</td>      <th>  AIC:               </th> <td>2.755e+04</td>\n",
       "</tr>\n",
       "<tr>\n",
       "  <th>Df Residuals:</th>          <td>  1433</td>      <th>  BIC:               </th> <td>2.757e+04</td>\n",
       "</tr>\n",
       "<tr>\n",
       "  <th>Df Model:</th>              <td>     2</td>      <th>                     </th>     <td> </td>    \n",
       "</tr>\n",
       "<tr>\n",
       "  <th>Covariance Type:</th>      <td>nonrobust</td>    <th>                     </th>     <td> </td>    \n",
       "</tr>\n",
       "</table>\n",
       "<table class=\"simpletable\">\n",
       "<tr>\n",
       "      <td></td>         <th>coef</th>     <th>std err</th>      <th>t</th>      <th>P>|t|</th>  <th>[0.025</th>    <th>0.975]</th>  \n",
       "</tr>\n",
       "<tr>\n",
       "  <th>Intercept</th> <td> 6509.4211</td> <td>  515.773</td> <td>   12.621</td> <td> 0.000</td> <td> 5497.670</td> <td> 7521.173</td>\n",
       "</tr>\n",
       "<tr>\n",
       "  <th>cc</th>        <td>    0.9597</td> <td>    0.221</td> <td>    4.340</td> <td> 0.000</td> <td>    0.526</td> <td>    1.393</td>\n",
       "</tr>\n",
       "<tr>\n",
       "  <th>Doors</th>     <td>  671.3973</td> <td>   98.501</td> <td>    6.816</td> <td> 0.000</td> <td>  478.176</td> <td>  864.619</td>\n",
       "</tr>\n",
       "</table>\n",
       "<table class=\"simpletable\">\n",
       "<tr>\n",
       "  <th>Omnibus:</th>       <td>448.845</td> <th>  Durbin-Watson:     </th> <td>   0.290</td> \n",
       "</tr>\n",
       "<tr>\n",
       "  <th>Prob(Omnibus):</th> <td> 0.000</td>  <th>  Jarque-Bera (JB):  </th> <td>1294.854</td> \n",
       "</tr>\n",
       "<tr>\n",
       "  <th>Skew:</th>          <td> 1.603</td>  <th>  Prob(JB):          </th> <td>6.70e-282</td>\n",
       "</tr>\n",
       "<tr>\n",
       "  <th>Kurtosis:</th>      <td> 6.370</td>  <th>  Cond. No.          </th> <td>9.09e+03</td> \n",
       "</tr>\n",
       "</table><br/><br/>Notes:<br/>[1] Standard Errors assume that the covariance matrix of the errors is correctly specified.<br/>[2] The condition number is large, 9.09e+03. This might indicate that there are<br/>strong multicollinearity or other numerical problems."
      ],
      "text/plain": [
       "<class 'statsmodels.iolib.summary.Summary'>\n",
       "\"\"\"\n",
       "                            OLS Regression Results                            \n",
       "==============================================================================\n",
       "Dep. Variable:                  Price   R-squared:                       0.047\n",
       "Model:                            OLS   Adj. R-squared:                  0.046\n",
       "Method:                 Least Squares   F-statistic:                     35.24\n",
       "Date:                Wed, 04 May 2022   Prob (F-statistic):           1.15e-15\n",
       "Time:                        12:37:43   Log-Likelihood:                -13772.\n",
       "No. Observations:                1436   AIC:                         2.755e+04\n",
       "Df Residuals:                    1433   BIC:                         2.757e+04\n",
       "Df Model:                           2                                         \n",
       "Covariance Type:            nonrobust                                         \n",
       "==============================================================================\n",
       "                 coef    std err          t      P>|t|      [0.025      0.975]\n",
       "------------------------------------------------------------------------------\n",
       "Intercept   6509.4211    515.773     12.621      0.000    5497.670    7521.173\n",
       "cc             0.9597      0.221      4.340      0.000       0.526       1.393\n",
       "Doors        671.3973     98.501      6.816      0.000     478.176     864.619\n",
       "==============================================================================\n",
       "Omnibus:                      448.845   Durbin-Watson:                   0.290\n",
       "Prob(Omnibus):                  0.000   Jarque-Bera (JB):             1294.854\n",
       "Skew:                           1.603   Prob(JB):                    6.70e-282\n",
       "Kurtosis:                       6.370   Cond. No.                     9.09e+03\n",
       "==============================================================================\n",
       "\n",
       "Notes:\n",
       "[1] Standard Errors assume that the covariance matrix of the errors is correctly specified.\n",
       "[2] The condition number is large, 9.09e+03. This might indicate that there are\n",
       "strong multicollinearity or other numerical problems.\n",
       "\"\"\""
      ]
     },
     "execution_count": 93,
     "metadata": {},
     "output_type": "execute_result"
    }
   ],
   "source": [
    "#checking cc and doors together\n",
    "model_cc_doors = smf.ols('Price~cc+Doors', data=car_ds).fit()\n",
    "model_cc_doors.summary()"
   ]
  },
  {
   "cell_type": "markdown",
   "id": "b4fdc813",
   "metadata": {},
   "source": [
    "#### Now cc and doors when taken along with other variables are becoming insignificant\n",
    "#### But when checked separately or together, then they r significant\n",
    "#### So, need to check VIF for each variable, higher the VIF - exclude that variable from the dataset"
   ]
  },
  {
   "cell_type": "markdown",
   "id": "52750e36",
   "metadata": {},
   "source": [
    "### Calculating VIF\n",
    "\n",
    "#### higher VIF -  exclude that variable from equation"
   ]
  },
  {
   "cell_type": "code",
   "execution_count": 94,
   "id": "b139671f",
   "metadata": {
    "ExecuteTime": {
     "end_time": "2022-05-04T07:07:47.114589Z",
     "start_time": "2022-05-04T07:07:47.078611Z"
    }
   },
   "outputs": [
    {
     "data": {
      "text/plain": [
       "1.1638939849423795"
      ]
     },
     "execution_count": 94,
     "metadata": {},
     "output_type": "execute_result"
    }
   ],
   "source": [
    "rsq_cc = smf.ols('cc~age_months+KM+HP+Doors+Gears+Quarterly_Tax+Weight', data=car_ds).fit().rsquared\n",
    "vif_cc = 1/(1-rsq_cc)\n",
    "vif_cc"
   ]
  },
  {
   "cell_type": "code",
   "execution_count": 95,
   "id": "d40e2cbc",
   "metadata": {
    "ExecuteTime": {
     "end_time": "2022-05-04T07:07:47.974820Z",
     "start_time": "2022-05-04T07:07:47.950836Z"
    }
   },
   "outputs": [
    {
     "data": {
      "text/plain": [
       "1.156575207076043"
      ]
     },
     "execution_count": 95,
     "metadata": {},
     "output_type": "execute_result"
    }
   ],
   "source": [
    "rsq_doors = smf.ols('Doors~age_months+KM+HP+cc+Gears+Quarterly_Tax+Weight', data=car_ds).fit().rsquared\n",
    "vif_doors = 1/(1-rsq_doors)\n",
    "vif_doors\n",
    "\n",
    "#here VIF of CC is higher - we can drop doors column from dataset"
   ]
  },
  {
   "cell_type": "markdown",
   "id": "5be43b51",
   "metadata": {},
   "source": [
    "### Model Validation"
   ]
  },
  {
   "cell_type": "markdown",
   "id": "8906ee17",
   "metadata": {},
   "source": [
    "#### QQ plot (quantile - quantile plot)"
   ]
  },
  {
   "cell_type": "code",
   "execution_count": 130,
   "id": "9ad46411",
   "metadata": {
    "ExecuteTime": {
     "end_time": "2022-05-04T07:41:21.419576Z",
     "start_time": "2022-05-04T07:41:16.911710Z"
    }
   },
   "outputs": [
    {
     "data": {
      "text/plain": [
       "Text(0.5, 1.0, 'Normal qq plot')"
      ]
     },
     "execution_count": 130,
     "metadata": {},
     "output_type": "execute_result"
    },
    {
     "data": {
      "image/png": "[encoded data removed]",
      "text/plain": [
       "<Figure size 432x288 with 1 Axes>"
      ]
     },
     "metadata": {
      "needs_background": "light"
     },
     "output_type": "display_data"
    }
   ],
   "source": [
    "import statsmodels.api as sm\n",
    "qqplot = sm.qqplot(model.resid, line='q')\n",
    "plt.title('Normal qq plot')\n",
    "\n",
    "# dots which r not on the line are outliers"
   ]
  },
  {
   "cell_type": "markdown",
   "id": "746f5415",
   "metadata": {},
   "source": [
    "#### Residual plot - Fitted(predicted) vs Residuals"
   ]
  },
  {
   "cell_type": "code",
   "execution_count": 131,
   "id": "c2c06afa",
   "metadata": {
    "ExecuteTime": {
     "end_time": "2022-05-04T07:44:48.244151Z",
     "start_time": "2022-05-04T07:44:48.228158Z"
    }
   },
   "outputs": [],
   "source": [
    "def get_standardized_value(vals):\n",
    "    return ((vals - vals.mean())/vals.std())"
   ]
  },
  {
   "cell_type": "code",
   "execution_count": 133,
   "id": "4d1a8968",
   "metadata": {
    "ExecuteTime": {
     "end_time": "2022-05-04T07:45:42.559260Z",
     "start_time": "2022-05-04T07:45:42.379409Z"
    }
   },
   "outputs": [
    {
     "data": {
      "text/plain": [
       "Text(0, 0.5, 'Standardized Resid values')"
      ]
     },
     "execution_count": 133,
     "metadata": {},
     "output_type": "execute_result"
    },
    {
     "data": {
      "image/png": "[encoded data removed]",
      "text/plain": [
       "<Figure size 432x288 with 1 Axes>"
      ]
     },
     "metadata": {
      "needs_background": "light"
     },
     "output_type": "display_data"
    }
   ],
   "source": [
    "plt.scatter(get_standardized_value(model.fittedvalues), get_standardized_value(model.resid))\n",
    "plt.xlabel('Standardized Fitted values')\n",
    "plt.ylabel('Standardized Resid values')\n",
    "\n",
    "#shoudl have no pattern\n",
    "# residual mean should be around zero"
   ]
  },
  {
   "cell_type": "code",
   "execution_count": null,
   "id": "10243b87",
   "metadata": {},
   "outputs": [],
   "source": []
  },
  {
   "cell_type": "markdown",
   "id": "2935850d",
   "metadata": {},
   "source": [
    "### Model Deletion Diagnostics -- Deleting outliers"
   ]
  },
  {
   "cell_type": "markdown",
   "id": "1f377252",
   "metadata": {},
   "source": [
    "#### 1. Cooks Distance"
   ]
  },
  {
   "cell_type": "code",
   "execution_count": 96,
   "id": "2d6f04ab",
   "metadata": {
    "ExecuteTime": {
     "end_time": "2022-05-04T07:07:50.330557Z",
     "start_time": "2022-05-04T07:07:50.310572Z"
    }
   },
   "outputs": [],
   "source": [
    "# cooks_distance function returns cooks values and probability distribution values\n",
    "# so dash indicates ignore prob. dist. values\n",
    "model_influence = model.get_influence()\n",
    "(c,_) = model_influence.cooks_distance"
   ]
  },
  {
   "cell_type": "code",
   "execution_count": 97,
   "id": "fb4acb3f",
   "metadata": {
    "ExecuteTime": {
     "end_time": "2022-05-04T07:07:52.612344Z",
     "start_time": "2022-05-04T07:07:52.334502Z"
    }
   },
   "outputs": [
    {
     "data": {
      "image/png": "[encoded data removed]",
      "text/plain": [
       "<Figure size 1440x576 with 1 Axes>"
      ]
     },
     "metadata": {
      "needs_background": "light"
     },
     "output_type": "display_data"
    }
   ],
   "source": [
    "# len(ds) -- no. of observations\n",
    "# plot influencers using stem plot\n",
    "plt.figure(figsize=(20,8))\n",
    "plt.stem(np.arange(len(ds)), np.round(c,3))\n",
    "plt.xlabel('Observations')\n",
    "plt.ylabel('Cooks Distance')\n",
    "plt.show()"
   ]
  },
  {
   "cell_type": "code",
   "execution_count": 98,
   "id": "8117e6cd",
   "metadata": {
    "ExecuteTime": {
     "end_time": "2022-05-04T07:07:54.277617Z",
     "start_time": "2022-05-04T07:07:54.262627Z"
    }
   },
   "outputs": [
    {
     "data": {
      "text/plain": [
       "(80, 79.52010624139577)"
      ]
     },
     "execution_count": 98,
     "metadata": {},
     "output_type": "execute_result"
    }
   ],
   "source": [
    "# index and value of influencer where c is more than 1\n",
    "# here the 80th observation is an outlier having cooks distance > 1 ie. 79.52\n",
    "(np.argmax(c), np.max(c))"
   ]
  },
  {
   "cell_type": "markdown",
   "id": "6e9b291b",
   "metadata": {},
   "source": [
    "#### Using High Influence points"
   ]
  },
  {
   "cell_type": "code",
   "execution_count": 99,
   "id": "fefdd4fb",
   "metadata": {
    "ExecuteTime": {
     "end_time": "2022-05-04T07:07:58.811115Z",
     "start_time": "2022-05-04T07:07:56.070766Z"
    }
   },
   "outputs": [
    {
     "data": {
      "image/png": "[encoded data removed]",
      "text/plain": [
       "<Figure size 432x288 with 1 Axes>"
      ]
     },
     "metadata": {
      "needs_background": "light"
     },
     "output_type": "display_data"
    }
   ],
   "source": [
    "from statsmodels.graphics.regressionplots import influence_plot\n",
    "influence_plot(model)\n",
    "plt.show()"
   ]
  },
  {
   "cell_type": "code",
   "execution_count": 69,
   "id": "72eab259",
   "metadata": {
    "ExecuteTime": {
     "end_time": "2022-05-04T06:53:39.329613Z",
     "start_time": "2022-05-04T06:53:39.313116Z"
    }
   },
   "outputs": [
    {
     "data": {
      "text/plain": [
       "(1436, 38)"
      ]
     },
     "execution_count": 69,
     "metadata": {},
     "output_type": "execute_result"
    }
   ],
   "source": [
    "ds.shape"
   ]
  },
  {
   "cell_type": "code",
   "execution_count": 100,
   "id": "a5f3dab7",
   "metadata": {
    "ExecuteTime": {
     "end_time": "2022-05-04T07:07:58.923081Z",
     "start_time": "2022-05-04T07:07:58.909089Z"
    }
   },
   "outputs": [
    {
     "data": {
      "text/plain": [
       "0.08147632311977715"
      ]
     },
     "execution_count": 100,
     "metadata": {},
     "output_type": "execute_result"
    }
   ],
   "source": [
    "# calculating leverage cutoff value for determing outliers\n",
    "# those observations > leverage cutoff  are outliers\n",
    "k = ds.shape[1]\n",
    "n = ds.shape[0]\n",
    "leverage_cutoff = 3*((k+1)/n)\n",
    "leverage_cutoff\n",
    "\n",
    "# here the leverage cut off value is 0.08\n",
    "# only 80th observation > 0.08"
   ]
  },
  {
   "cell_type": "markdown",
   "id": "9e4b2c79",
   "metadata": {},
   "source": [
    "#### From both cooks distance and high influence points, only 80th observation appears to be an outlier\n",
    "#### so deleting 80th observation from dataset\n",
    "#### before deletion, need to compare the outlier value with other values of the dataset"
   ]
  },
  {
   "cell_type": "code",
   "execution_count": 101,
   "id": "6f0d3ea6",
   "metadata": {
    "ExecuteTime": {
     "end_time": "2022-05-04T07:08:01.879077Z",
     "start_time": "2022-05-04T07:08:01.847098Z"
    }
   },
   "outputs": [
    {
     "data": {
      "text/html": [
       "<div>\n",
       "<style scoped>\n",
       "    .dataframe tbody tr th:only-of-type {\n",
       "        vertical-align: middle;\n",
       "    }\n",
       "\n",
       "    .dataframe tbody tr th {\n",
       "        vertical-align: top;\n",
       "    }\n",
       "\n",
       "    .dataframe thead th {\n",
       "        text-align: right;\n",
       "    }\n",
       "</style>\n",
       "<table border=\"1\" class=\"dataframe\">\n",
       "  <thead>\n",
       "    <tr style=\"text-align: right;\">\n",
       "      <th></th>\n",
       "      <th>age_months</th>\n",
       "      <th>KM</th>\n",
       "      <th>HP</th>\n",
       "      <th>cc</th>\n",
       "      <th>Doors</th>\n",
       "      <th>Gears</th>\n",
       "      <th>Quarterly_Tax</th>\n",
       "      <th>Weight</th>\n",
       "      <th>Price</th>\n",
       "    </tr>\n",
       "  </thead>\n",
       "  <tbody>\n",
       "    <tr>\n",
       "      <th>80</th>\n",
       "      <td>25</td>\n",
       "      <td>20019</td>\n",
       "      <td>110</td>\n",
       "      <td>16000</td>\n",
       "      <td>5</td>\n",
       "      <td>5</td>\n",
       "      <td>100</td>\n",
       "      <td>1180</td>\n",
       "      <td>18950</td>\n",
       "    </tr>\n",
       "  </tbody>\n",
       "</table>\n",
       "</div>"
      ],
      "text/plain": [
       "    age_months     KM   HP     cc  Doors  Gears  Quarterly_Tax  Weight  Price\n",
       "80          25  20019  110  16000      5      5            100    1180  18950"
      ]
     },
     "execution_count": 101,
     "metadata": {},
     "output_type": "execute_result"
    }
   ],
   "source": [
    "#outlier value\n",
    "car_ds[car_ds.index.isin([80])]"
   ]
  },
  {
   "cell_type": "code",
   "execution_count": 102,
   "id": "a953e4be",
   "metadata": {
    "ExecuteTime": {
     "end_time": "2022-05-04T07:08:03.163403Z",
     "start_time": "2022-05-04T07:08:03.142415Z"
    }
   },
   "outputs": [
    {
     "data": {
      "text/html": [
       "<div>\n",
       "<style scoped>\n",
       "    .dataframe tbody tr th:only-of-type {\n",
       "        vertical-align: middle;\n",
       "    }\n",
       "\n",
       "    .dataframe tbody tr th {\n",
       "        vertical-align: top;\n",
       "    }\n",
       "\n",
       "    .dataframe thead th {\n",
       "        text-align: right;\n",
       "    }\n",
       "</style>\n",
       "<table border=\"1\" class=\"dataframe\">\n",
       "  <thead>\n",
       "    <tr style=\"text-align: right;\">\n",
       "      <th></th>\n",
       "      <th>age_months</th>\n",
       "      <th>KM</th>\n",
       "      <th>HP</th>\n",
       "      <th>cc</th>\n",
       "      <th>Doors</th>\n",
       "      <th>Gears</th>\n",
       "      <th>Quarterly_Tax</th>\n",
       "      <th>Weight</th>\n",
       "      <th>Price</th>\n",
       "    </tr>\n",
       "  </thead>\n",
       "  <tbody>\n",
       "    <tr>\n",
       "      <th>0</th>\n",
       "      <td>23</td>\n",
       "      <td>46986</td>\n",
       "      <td>90</td>\n",
       "      <td>2000</td>\n",
       "      <td>3</td>\n",
       "      <td>5</td>\n",
       "      <td>210</td>\n",
       "      <td>1165</td>\n",
       "      <td>13500</td>\n",
       "    </tr>\n",
       "    <tr>\n",
       "      <th>1</th>\n",
       "      <td>23</td>\n",
       "      <td>72937</td>\n",
       "      <td>90</td>\n",
       "      <td>2000</td>\n",
       "      <td>3</td>\n",
       "      <td>5</td>\n",
       "      <td>210</td>\n",
       "      <td>1165</td>\n",
       "      <td>13750</td>\n",
       "    </tr>\n",
       "    <tr>\n",
       "      <th>2</th>\n",
       "      <td>24</td>\n",
       "      <td>41711</td>\n",
       "      <td>90</td>\n",
       "      <td>2000</td>\n",
       "      <td>3</td>\n",
       "      <td>5</td>\n",
       "      <td>210</td>\n",
       "      <td>1165</td>\n",
       "      <td>13950</td>\n",
       "    </tr>\n",
       "    <tr>\n",
       "      <th>3</th>\n",
       "      <td>26</td>\n",
       "      <td>48000</td>\n",
       "      <td>90</td>\n",
       "      <td>2000</td>\n",
       "      <td>3</td>\n",
       "      <td>5</td>\n",
       "      <td>210</td>\n",
       "      <td>1165</td>\n",
       "      <td>14950</td>\n",
       "    </tr>\n",
       "    <tr>\n",
       "      <th>4</th>\n",
       "      <td>30</td>\n",
       "      <td>38500</td>\n",
       "      <td>90</td>\n",
       "      <td>2000</td>\n",
       "      <td>3</td>\n",
       "      <td>5</td>\n",
       "      <td>210</td>\n",
       "      <td>1170</td>\n",
       "      <td>13750</td>\n",
       "    </tr>\n",
       "    <tr>\n",
       "      <th>5</th>\n",
       "      <td>32</td>\n",
       "      <td>61000</td>\n",
       "      <td>90</td>\n",
       "      <td>2000</td>\n",
       "      <td>3</td>\n",
       "      <td>5</td>\n",
       "      <td>210</td>\n",
       "      <td>1170</td>\n",
       "      <td>12950</td>\n",
       "    </tr>\n",
       "    <tr>\n",
       "      <th>6</th>\n",
       "      <td>27</td>\n",
       "      <td>94612</td>\n",
       "      <td>90</td>\n",
       "      <td>2000</td>\n",
       "      <td>3</td>\n",
       "      <td>5</td>\n",
       "      <td>210</td>\n",
       "      <td>1245</td>\n",
       "      <td>16900</td>\n",
       "    </tr>\n",
       "    <tr>\n",
       "      <th>7</th>\n",
       "      <td>30</td>\n",
       "      <td>75889</td>\n",
       "      <td>90</td>\n",
       "      <td>2000</td>\n",
       "      <td>3</td>\n",
       "      <td>5</td>\n",
       "      <td>210</td>\n",
       "      <td>1245</td>\n",
       "      <td>18600</td>\n",
       "    </tr>\n",
       "    <tr>\n",
       "      <th>8</th>\n",
       "      <td>27</td>\n",
       "      <td>19700</td>\n",
       "      <td>192</td>\n",
       "      <td>1800</td>\n",
       "      <td>3</td>\n",
       "      <td>5</td>\n",
       "      <td>100</td>\n",
       "      <td>1185</td>\n",
       "      <td>21500</td>\n",
       "    </tr>\n",
       "    <tr>\n",
       "      <th>9</th>\n",
       "      <td>23</td>\n",
       "      <td>71138</td>\n",
       "      <td>69</td>\n",
       "      <td>1900</td>\n",
       "      <td>3</td>\n",
       "      <td>5</td>\n",
       "      <td>185</td>\n",
       "      <td>1105</td>\n",
       "      <td>12950</td>\n",
       "    </tr>\n",
       "  </tbody>\n",
       "</table>\n",
       "</div>"
      ],
      "text/plain": [
       "   age_months     KM   HP    cc  Doors  Gears  Quarterly_Tax  Weight  Price\n",
       "0          23  46986   90  2000      3      5            210    1165  13500\n",
       "1          23  72937   90  2000      3      5            210    1165  13750\n",
       "2          24  41711   90  2000      3      5            210    1165  13950\n",
       "3          26  48000   90  2000      3      5            210    1165  14950\n",
       "4          30  38500   90  2000      3      5            210    1170  13750\n",
       "5          32  61000   90  2000      3      5            210    1170  12950\n",
       "6          27  94612   90  2000      3      5            210    1245  16900\n",
       "7          30  75889   90  2000      3      5            210    1245  18600\n",
       "8          27  19700  192  1800      3      5            100    1185  21500\n",
       "9          23  71138   69  1900      3      5            185    1105  12950"
      ]
     },
     "execution_count": 102,
     "metadata": {},
     "output_type": "execute_result"
    }
   ],
   "source": [
    "car_ds.head(10)"
   ]
  },
  {
   "cell_type": "markdown",
   "id": "a71e76af",
   "metadata": {},
   "source": [
    "#### After comparing the values, it is evident that the value of cc=16000 is clearly an outlier \n",
    "#### also cc for other values is around 2000, evident from the boxplot of cc\n",
    "#### Therefore, deleting 80th observation"
   ]
  },
  {
   "cell_type": "code",
   "execution_count": 103,
   "id": "cfde5fc4",
   "metadata": {
    "ExecuteTime": {
     "end_time": "2022-05-04T07:08:05.964366Z",
     "start_time": "2022-05-04T07:08:05.950376Z"
    }
   },
   "outputs": [
    {
     "data": {
      "text/plain": [
       "(1436, 9)"
      ]
     },
     "execution_count": 103,
     "metadata": {},
     "output_type": "execute_result"
    }
   ],
   "source": [
    "car_ds.shape"
   ]
  },
  {
   "cell_type": "code",
   "execution_count": 104,
   "id": "a275a209",
   "metadata": {
    "ExecuteTime": {
     "end_time": "2022-05-04T07:08:07.175772Z",
     "start_time": "2022-05-04T07:08:07.142794Z"
    }
   },
   "outputs": [
    {
     "data": {
      "text/html": [
       "<div>\n",
       "<style scoped>\n",
       "    .dataframe tbody tr th:only-of-type {\n",
       "        vertical-align: middle;\n",
       "    }\n",
       "\n",
       "    .dataframe tbody tr th {\n",
       "        vertical-align: top;\n",
       "    }\n",
       "\n",
       "    .dataframe thead th {\n",
       "        text-align: right;\n",
       "    }\n",
       "</style>\n",
       "<table border=\"1\" class=\"dataframe\">\n",
       "  <thead>\n",
       "    <tr style=\"text-align: right;\">\n",
       "      <th></th>\n",
       "      <th>age_months</th>\n",
       "      <th>KM</th>\n",
       "      <th>HP</th>\n",
       "      <th>cc</th>\n",
       "      <th>Doors</th>\n",
       "      <th>Gears</th>\n",
       "      <th>Quarterly_Tax</th>\n",
       "      <th>Weight</th>\n",
       "      <th>Price</th>\n",
       "    </tr>\n",
       "  </thead>\n",
       "  <tbody>\n",
       "    <tr>\n",
       "      <th>0</th>\n",
       "      <td>23</td>\n",
       "      <td>46986</td>\n",
       "      <td>90</td>\n",
       "      <td>2000</td>\n",
       "      <td>3</td>\n",
       "      <td>5</td>\n",
       "      <td>210</td>\n",
       "      <td>1165</td>\n",
       "      <td>13500</td>\n",
       "    </tr>\n",
       "    <tr>\n",
       "      <th>1</th>\n",
       "      <td>23</td>\n",
       "      <td>72937</td>\n",
       "      <td>90</td>\n",
       "      <td>2000</td>\n",
       "      <td>3</td>\n",
       "      <td>5</td>\n",
       "      <td>210</td>\n",
       "      <td>1165</td>\n",
       "      <td>13750</td>\n",
       "    </tr>\n",
       "    <tr>\n",
       "      <th>2</th>\n",
       "      <td>24</td>\n",
       "      <td>41711</td>\n",
       "      <td>90</td>\n",
       "      <td>2000</td>\n",
       "      <td>3</td>\n",
       "      <td>5</td>\n",
       "      <td>210</td>\n",
       "      <td>1165</td>\n",
       "      <td>13950</td>\n",
       "    </tr>\n",
       "    <tr>\n",
       "      <th>3</th>\n",
       "      <td>26</td>\n",
       "      <td>48000</td>\n",
       "      <td>90</td>\n",
       "      <td>2000</td>\n",
       "      <td>3</td>\n",
       "      <td>5</td>\n",
       "      <td>210</td>\n",
       "      <td>1165</td>\n",
       "      <td>14950</td>\n",
       "    </tr>\n",
       "  </tbody>\n",
       "</table>\n",
       "</div>"
      ],
      "text/plain": [
       "   age_months     KM  HP    cc  Doors  Gears  Quarterly_Tax  Weight  Price\n",
       "0          23  46986  90  2000      3      5            210    1165  13500\n",
       "1          23  72937  90  2000      3      5            210    1165  13750\n",
       "2          24  41711  90  2000      3      5            210    1165  13950\n",
       "3          26  48000  90  2000      3      5            210    1165  14950"
      ]
     },
     "execution_count": 104,
     "metadata": {},
     "output_type": "execute_result"
    }
   ],
   "source": [
    "# loading the data in a new variable\n",
    "car_ds1 = car_ds.copy()\n",
    "car_ds1.head(4)"
   ]
  },
  {
   "cell_type": "code",
   "execution_count": 75,
   "id": "20ebd946",
   "metadata": {
    "ExecuteTime": {
     "end_time": "2022-05-04T07:05:04.884176Z",
     "start_time": "2022-05-04T07:05:04.849198Z"
    }
   },
   "outputs": [
    {
     "data": {
      "text/html": [
       "<div>\n",
       "<style scoped>\n",
       "    .dataframe tbody tr th:only-of-type {\n",
       "        vertical-align: middle;\n",
       "    }\n",
       "\n",
       "    .dataframe tbody tr th {\n",
       "        vertical-align: top;\n",
       "    }\n",
       "\n",
       "    .dataframe thead th {\n",
       "        text-align: right;\n",
       "    }\n",
       "</style>\n",
       "<table border=\"1\" class=\"dataframe\">\n",
       "  <thead>\n",
       "    <tr style=\"text-align: right;\">\n",
       "      <th></th>\n",
       "      <th>index</th>\n",
       "      <th>age_months</th>\n",
       "      <th>KM</th>\n",
       "      <th>HP</th>\n",
       "      <th>cc</th>\n",
       "      <th>Doors</th>\n",
       "      <th>Gears</th>\n",
       "      <th>Quarterly_Tax</th>\n",
       "      <th>Weight</th>\n",
       "      <th>Price</th>\n",
       "    </tr>\n",
       "  </thead>\n",
       "  <tbody>\n",
       "    <tr>\n",
       "      <th>0</th>\n",
       "      <td>0</td>\n",
       "      <td>23</td>\n",
       "      <td>46986</td>\n",
       "      <td>90</td>\n",
       "      <td>2000</td>\n",
       "      <td>3</td>\n",
       "      <td>5</td>\n",
       "      <td>210</td>\n",
       "      <td>1165</td>\n",
       "      <td>13500</td>\n",
       "    </tr>\n",
       "    <tr>\n",
       "      <th>1</th>\n",
       "      <td>1</td>\n",
       "      <td>23</td>\n",
       "      <td>72937</td>\n",
       "      <td>90</td>\n",
       "      <td>2000</td>\n",
       "      <td>3</td>\n",
       "      <td>5</td>\n",
       "      <td>210</td>\n",
       "      <td>1165</td>\n",
       "      <td>13750</td>\n",
       "    </tr>\n",
       "    <tr>\n",
       "      <th>2</th>\n",
       "      <td>2</td>\n",
       "      <td>24</td>\n",
       "      <td>41711</td>\n",
       "      <td>90</td>\n",
       "      <td>2000</td>\n",
       "      <td>3</td>\n",
       "      <td>5</td>\n",
       "      <td>210</td>\n",
       "      <td>1165</td>\n",
       "      <td>13950</td>\n",
       "    </tr>\n",
       "    <tr>\n",
       "      <th>3</th>\n",
       "      <td>3</td>\n",
       "      <td>26</td>\n",
       "      <td>48000</td>\n",
       "      <td>90</td>\n",
       "      <td>2000</td>\n",
       "      <td>3</td>\n",
       "      <td>5</td>\n",
       "      <td>210</td>\n",
       "      <td>1165</td>\n",
       "      <td>14950</td>\n",
       "    </tr>\n",
       "    <tr>\n",
       "      <th>4</th>\n",
       "      <td>4</td>\n",
       "      <td>30</td>\n",
       "      <td>38500</td>\n",
       "      <td>90</td>\n",
       "      <td>2000</td>\n",
       "      <td>3</td>\n",
       "      <td>5</td>\n",
       "      <td>210</td>\n",
       "      <td>1170</td>\n",
       "      <td>13750</td>\n",
       "    </tr>\n",
       "    <tr>\n",
       "      <th>...</th>\n",
       "      <td>...</td>\n",
       "      <td>...</td>\n",
       "      <td>...</td>\n",
       "      <td>...</td>\n",
       "      <td>...</td>\n",
       "      <td>...</td>\n",
       "      <td>...</td>\n",
       "      <td>...</td>\n",
       "      <td>...</td>\n",
       "      <td>...</td>\n",
       "    </tr>\n",
       "    <tr>\n",
       "      <th>1430</th>\n",
       "      <td>1431</td>\n",
       "      <td>69</td>\n",
       "      <td>20544</td>\n",
       "      <td>86</td>\n",
       "      <td>1300</td>\n",
       "      <td>3</td>\n",
       "      <td>5</td>\n",
       "      <td>69</td>\n",
       "      <td>1025</td>\n",
       "      <td>7500</td>\n",
       "    </tr>\n",
       "    <tr>\n",
       "      <th>1431</th>\n",
       "      <td>1432</td>\n",
       "      <td>72</td>\n",
       "      <td>19000</td>\n",
       "      <td>86</td>\n",
       "      <td>1300</td>\n",
       "      <td>3</td>\n",
       "      <td>5</td>\n",
       "      <td>69</td>\n",
       "      <td>1015</td>\n",
       "      <td>10845</td>\n",
       "    </tr>\n",
       "    <tr>\n",
       "      <th>1432</th>\n",
       "      <td>1433</td>\n",
       "      <td>71</td>\n",
       "      <td>17016</td>\n",
       "      <td>86</td>\n",
       "      <td>1300</td>\n",
       "      <td>3</td>\n",
       "      <td>5</td>\n",
       "      <td>69</td>\n",
       "      <td>1015</td>\n",
       "      <td>8500</td>\n",
       "    </tr>\n",
       "    <tr>\n",
       "      <th>1433</th>\n",
       "      <td>1434</td>\n",
       "      <td>70</td>\n",
       "      <td>16916</td>\n",
       "      <td>86</td>\n",
       "      <td>1300</td>\n",
       "      <td>3</td>\n",
       "      <td>5</td>\n",
       "      <td>69</td>\n",
       "      <td>1015</td>\n",
       "      <td>7250</td>\n",
       "    </tr>\n",
       "    <tr>\n",
       "      <th>1434</th>\n",
       "      <td>1435</td>\n",
       "      <td>76</td>\n",
       "      <td>1</td>\n",
       "      <td>110</td>\n",
       "      <td>1600</td>\n",
       "      <td>5</td>\n",
       "      <td>5</td>\n",
       "      <td>19</td>\n",
       "      <td>1114</td>\n",
       "      <td>6950</td>\n",
       "    </tr>\n",
       "  </tbody>\n",
       "</table>\n",
       "<p>1435 rows × 10 columns</p>\n",
       "</div>"
      ],
      "text/plain": [
       "      index  age_months     KM   HP    cc  Doors  Gears  Quarterly_Tax  Weight  Price\n",
       "0         0          23  46986   90  2000      3      5            210    1165  13500\n",
       "1         1          23  72937   90  2000      3      5            210    1165  13750\n",
       "2         2          24  41711   90  2000      3      5            210    1165  13950\n",
       "3         3          26  48000   90  2000      3      5            210    1165  14950\n",
       "4         4          30  38500   90  2000      3      5            210    1170  13750\n",
       "...     ...         ...    ...  ...   ...    ...    ...            ...     ...    ...\n",
       "1430   1431          69  20544   86  1300      3      5             69    1025   7500\n",
       "1431   1432          72  19000   86  1300      3      5             69    1015  10845\n",
       "1432   1433          71  17016   86  1300      3      5             69    1015   8500\n",
       "1433   1434          70  16916   86  1300      3      5             69    1015   7250\n",
       "1434   1435          76      1  110  1600      5      5             19    1114   6950\n",
       "\n",
       "[1435 rows x 10 columns]"
      ]
     },
     "execution_count": 75,
     "metadata": {},
     "output_type": "execute_result"
    }
   ],
   "source": [
    "car_ds_firstdel = car_ds1.drop(car_ds1.index[80], axis=0).reset_index(drop=True)\n",
    "car_ds_firstdel"
   ]
  },
  {
   "cell_type": "code",
   "execution_count": 105,
   "id": "bc00d6e0",
   "metadata": {
    "ExecuteTime": {
     "end_time": "2022-05-04T07:08:21.242086Z",
     "start_time": "2022-05-04T07:08:21.222101Z"
    }
   },
   "outputs": [
    {
     "data": {
      "text/plain": [
       "(1435, 10)"
      ]
     },
     "execution_count": 105,
     "metadata": {},
     "output_type": "execute_result"
    }
   ],
   "source": [
    "#car_ds_firstdel.iloc[75:90]\n",
    "car_ds_firstdel.shape"
   ]
  },
  {
   "cell_type": "markdown",
   "id": "7bc769cf",
   "metadata": {},
   "source": [
    "### Build Model -- dropping CC variable and an outlier"
   ]
  },
  {
   "cell_type": "code",
   "execution_count": 107,
   "id": "6c1778a7",
   "metadata": {
    "ExecuteTime": {
     "end_time": "2022-05-04T07:10:40.282296Z",
     "start_time": "2022-05-04T07:10:40.237325Z"
    }
   },
   "outputs": [
    {
     "data": {
      "text/html": [
       "<table class=\"simpletable\">\n",
       "<caption>OLS Regression Results</caption>\n",
       "<tr>\n",
       "  <th>Dep. Variable:</th>          <td>Price</td>      <th>  R-squared:         </th> <td>   0.863</td> \n",
       "</tr>\n",
       "<tr>\n",
       "  <th>Model:</th>                   <td>OLS</td>       <th>  Adj. R-squared:    </th> <td>   0.863</td> \n",
       "</tr>\n",
       "<tr>\n",
       "  <th>Method:</th>             <td>Least Squares</td>  <th>  F-statistic:       </th> <td>   1286.</td> \n",
       "</tr>\n",
       "<tr>\n",
       "  <th>Date:</th>             <td>Wed, 04 May 2022</td> <th>  Prob (F-statistic):</th>  <td>  0.00</td>  \n",
       "</tr>\n",
       "<tr>\n",
       "  <th>Time:</th>                 <td>12:40:40</td>     <th>  Log-Likelihood:    </th> <td> -12368.</td> \n",
       "</tr>\n",
       "<tr>\n",
       "  <th>No. Observations:</th>      <td>  1435</td>      <th>  AIC:               </th> <td>2.475e+04</td>\n",
       "</tr>\n",
       "<tr>\n",
       "  <th>Df Residuals:</th>          <td>  1427</td>      <th>  BIC:               </th> <td>2.479e+04</td>\n",
       "</tr>\n",
       "<tr>\n",
       "  <th>Df Model:</th>              <td>     7</td>      <th>                     </th>     <td> </td>    \n",
       "</tr>\n",
       "<tr>\n",
       "  <th>Covariance Type:</th>      <td>nonrobust</td>    <th>                     </th>     <td> </td>    \n",
       "</tr>\n",
       "</table>\n",
       "<table class=\"simpletable\">\n",
       "<tr>\n",
       "        <td></td>           <th>coef</th>     <th>std err</th>      <th>t</th>      <th>P>|t|</th>  <th>[0.025</th>    <th>0.975]</th>  \n",
       "</tr>\n",
       "<tr>\n",
       "  <th>Intercept</th>     <td>-5434.8906</td> <td> 1410.637</td> <td>   -3.853</td> <td> 0.000</td> <td>-8202.036</td> <td>-2667.745</td>\n",
       "</tr>\n",
       "<tr>\n",
       "  <th>age_months</th>    <td> -121.6865</td> <td>    2.616</td> <td>  -46.512</td> <td> 0.000</td> <td> -126.819</td> <td> -116.554</td>\n",
       "</tr>\n",
       "<tr>\n",
       "  <th>KM</th>            <td>   -0.0209</td> <td>    0.001</td> <td>  -16.737</td> <td> 0.000</td> <td>   -0.023</td> <td>   -0.018</td>\n",
       "</tr>\n",
       "<tr>\n",
       "  <th>HP</th>            <td>   31.3562</td> <td>    2.807</td> <td>   11.170</td> <td> 0.000</td> <td>   25.850</td> <td>   36.863</td>\n",
       "</tr>\n",
       "<tr>\n",
       "  <th>Doors</th>         <td>   -1.0602</td> <td>   40.013</td> <td>   -0.026</td> <td> 0.979</td> <td>  -79.551</td> <td>   77.430</td>\n",
       "</tr>\n",
       "<tr>\n",
       "  <th>Gears</th>         <td>  598.5410</td> <td>  197.089</td> <td>    3.037</td> <td> 0.002</td> <td>  211.925</td> <td>  985.157</td>\n",
       "</tr>\n",
       "<tr>\n",
       "  <th>Quarterly_Tax</th> <td>    3.7658</td> <td>    1.301</td> <td>    2.894</td> <td> 0.004</td> <td>    1.214</td> <td>    6.318</td>\n",
       "</tr>\n",
       "<tr>\n",
       "  <th>Weight</th>        <td>   16.6824</td> <td>    1.056</td> <td>   15.802</td> <td> 0.000</td> <td>   14.612</td> <td>   18.753</td>\n",
       "</tr>\n",
       "</table>\n",
       "<table class=\"simpletable\">\n",
       "<tr>\n",
       "  <th>Omnibus:</th>       <td>146.861</td> <th>  Durbin-Watson:     </th> <td>   1.540</td> \n",
       "</tr>\n",
       "<tr>\n",
       "  <th>Prob(Omnibus):</th> <td> 0.000</td>  <th>  Jarque-Bera (JB):  </th> <td> 959.897</td> \n",
       "</tr>\n",
       "<tr>\n",
       "  <th>Skew:</th>          <td>-0.200</td>  <th>  Prob(JB):          </th> <td>3.64e-209</td>\n",
       "</tr>\n",
       "<tr>\n",
       "  <th>Kurtosis:</th>      <td> 6.987</td>  <th>  Cond. No.          </th> <td>3.12e+06</td> \n",
       "</tr>\n",
       "</table><br/><br/>Notes:<br/>[1] Standard Errors assume that the covariance matrix of the errors is correctly specified.<br/>[2] The condition number is large, 3.12e+06. This might indicate that there are<br/>strong multicollinearity or other numerical problems."
      ],
      "text/plain": [
       "<class 'statsmodels.iolib.summary.Summary'>\n",
       "\"\"\"\n",
       "                            OLS Regression Results                            \n",
       "==============================================================================\n",
       "Dep. Variable:                  Price   R-squared:                       0.863\n",
       "Model:                            OLS   Adj. R-squared:                  0.863\n",
       "Method:                 Least Squares   F-statistic:                     1286.\n",
       "Date:                Wed, 04 May 2022   Prob (F-statistic):               0.00\n",
       "Time:                        12:40:40   Log-Likelihood:                -12368.\n",
       "No. Observations:                1435   AIC:                         2.475e+04\n",
       "Df Residuals:                    1427   BIC:                         2.479e+04\n",
       "Df Model:                           7                                         \n",
       "Covariance Type:            nonrobust                                         \n",
       "=================================================================================\n",
       "                    coef    std err          t      P>|t|      [0.025      0.975]\n",
       "---------------------------------------------------------------------------------\n",
       "Intercept     -5434.8906   1410.637     -3.853      0.000   -8202.036   -2667.745\n",
       "age_months     -121.6865      2.616    -46.512      0.000    -126.819    -116.554\n",
       "KM               -0.0209      0.001    -16.737      0.000      -0.023      -0.018\n",
       "HP               31.3562      2.807     11.170      0.000      25.850      36.863\n",
       "Doors            -1.0602     40.013     -0.026      0.979     -79.551      77.430\n",
       "Gears           598.5410    197.089      3.037      0.002     211.925     985.157\n",
       "Quarterly_Tax     3.7658      1.301      2.894      0.004       1.214       6.318\n",
       "Weight           16.6824      1.056     15.802      0.000      14.612      18.753\n",
       "==============================================================================\n",
       "Omnibus:                      146.861   Durbin-Watson:                   1.540\n",
       "Prob(Omnibus):                  0.000   Jarque-Bera (JB):              959.897\n",
       "Skew:                          -0.200   Prob(JB):                    3.64e-209\n",
       "Kurtosis:                       6.987   Cond. No.                     3.12e+06\n",
       "==============================================================================\n",
       "\n",
       "Notes:\n",
       "[1] Standard Errors assume that the covariance matrix of the errors is correctly specified.\n",
       "[2] The condition number is large, 3.12e+06. This might indicate that there are\n",
       "strong multicollinearity or other numerical problems.\n",
       "\"\"\""
      ]
     },
     "execution_count": 107,
     "metadata": {},
     "output_type": "execute_result"
    }
   ],
   "source": [
    "model_firstdel = smf.ols('Price~age_months+KM+HP+Doors+Gears+Quarterly_Tax+Weight', data=car_ds_firstdel).fit()\n",
    "model_firstdel.summary()"
   ]
  },
  {
   "cell_type": "markdown",
   "id": "b80d589f",
   "metadata": {},
   "source": [
    "#### After building model with 1435 obervations and an outlier deleted, Again checking for outliers"
   ]
  },
  {
   "cell_type": "code",
   "execution_count": 111,
   "id": "e19ce53d",
   "metadata": {
    "ExecuteTime": {
     "end_time": "2022-05-04T07:16:23.425336Z",
     "start_time": "2022-05-04T07:16:23.417342Z"
    }
   },
   "outputs": [],
   "source": [
    "# again checking for outliers\n",
    "model_influence_cc = model_firstdel.get_influence()\n",
    "(c_cc,_) = model_influence_cc.cooks_distance"
   ]
  },
  {
   "cell_type": "code",
   "execution_count": 112,
   "id": "71c7185a",
   "metadata": {
    "ExecuteTime": {
     "end_time": "2022-05-04T07:16:25.465724Z",
     "start_time": "2022-05-04T07:16:25.224998Z"
    }
   },
   "outputs": [
    {
     "data": {
      "text/plain": [
       "Text(0, 0.5, 'Cooks distance')"
      ]
     },
     "execution_count": 112,
     "metadata": {},
     "output_type": "execute_result"
    },
    {
     "data": {
      "image/png": "[encoded data removed]",
      "text/plain": [
       "<Figure size 1440x576 with 1 Axes>"
      ]
     },
     "metadata": {
      "needs_background": "light"
     },
     "output_type": "display_data"
    }
   ],
   "source": [
    "plt.figure(figsize=(20,8))\n",
    "plt.stem(np.arange(len(car_ds_firstdel)),np.round(c_cc,3))\n",
    "plt.xlabel('row index')\n",
    "plt.ylabel('Cooks distance')"
   ]
  },
  {
   "cell_type": "code",
   "execution_count": 113,
   "id": "2fce434b",
   "metadata": {
    "ExecuteTime": {
     "end_time": "2022-05-04T07:16:34.456791Z",
     "start_time": "2022-05-04T07:16:34.440799Z"
    }
   },
   "outputs": [
    {
     "data": {
      "text/plain": [
       "(220, 1.0492259521312157)"
      ]
     },
     "execution_count": 113,
     "metadata": {},
     "output_type": "execute_result"
    }
   ],
   "source": [
    "# index and value of influencer where c is more than 1\n",
    "# here the 80th observation is an outlier having cooks distance > 1 ie. 79.52\n",
    "(np.argmax(c_cc), np.max(c_cc))"
   ]
  },
  {
   "cell_type": "markdown",
   "id": "283f8ebb",
   "metadata": {},
   "source": [
    "#### Deleting 2nd outlier at index 220"
   ]
  },
  {
   "cell_type": "code",
   "execution_count": 114,
   "id": "429e7585",
   "metadata": {
    "ExecuteTime": {
     "end_time": "2022-05-04T07:18:58.459580Z",
     "start_time": "2022-05-04T07:18:58.426878Z"
    }
   },
   "outputs": [
    {
     "data": {
      "text/html": [
       "<div>\n",
       "<style scoped>\n",
       "    .dataframe tbody tr th:only-of-type {\n",
       "        vertical-align: middle;\n",
       "    }\n",
       "\n",
       "    .dataframe tbody tr th {\n",
       "        vertical-align: top;\n",
       "    }\n",
       "\n",
       "    .dataframe thead th {\n",
       "        text-align: right;\n",
       "    }\n",
       "</style>\n",
       "<table border=\"1\" class=\"dataframe\">\n",
       "  <thead>\n",
       "    <tr style=\"text-align: right;\">\n",
       "      <th></th>\n",
       "      <th>index</th>\n",
       "      <th>age_months</th>\n",
       "      <th>KM</th>\n",
       "      <th>HP</th>\n",
       "      <th>cc</th>\n",
       "      <th>Doors</th>\n",
       "      <th>Gears</th>\n",
       "      <th>Quarterly_Tax</th>\n",
       "      <th>Weight</th>\n",
       "      <th>Price</th>\n",
       "    </tr>\n",
       "  </thead>\n",
       "  <tbody>\n",
       "    <tr>\n",
       "      <th>0</th>\n",
       "      <td>0</td>\n",
       "      <td>23</td>\n",
       "      <td>46986</td>\n",
       "      <td>90</td>\n",
       "      <td>2000</td>\n",
       "      <td>3</td>\n",
       "      <td>5</td>\n",
       "      <td>210</td>\n",
       "      <td>1165</td>\n",
       "      <td>13500</td>\n",
       "    </tr>\n",
       "    <tr>\n",
       "      <th>1</th>\n",
       "      <td>1</td>\n",
       "      <td>23</td>\n",
       "      <td>72937</td>\n",
       "      <td>90</td>\n",
       "      <td>2000</td>\n",
       "      <td>3</td>\n",
       "      <td>5</td>\n",
       "      <td>210</td>\n",
       "      <td>1165</td>\n",
       "      <td>13750</td>\n",
       "    </tr>\n",
       "    <tr>\n",
       "      <th>2</th>\n",
       "      <td>2</td>\n",
       "      <td>24</td>\n",
       "      <td>41711</td>\n",
       "      <td>90</td>\n",
       "      <td>2000</td>\n",
       "      <td>3</td>\n",
       "      <td>5</td>\n",
       "      <td>210</td>\n",
       "      <td>1165</td>\n",
       "      <td>13950</td>\n",
       "    </tr>\n",
       "    <tr>\n",
       "      <th>3</th>\n",
       "      <td>3</td>\n",
       "      <td>26</td>\n",
       "      <td>48000</td>\n",
       "      <td>90</td>\n",
       "      <td>2000</td>\n",
       "      <td>3</td>\n",
       "      <td>5</td>\n",
       "      <td>210</td>\n",
       "      <td>1165</td>\n",
       "      <td>14950</td>\n",
       "    </tr>\n",
       "    <tr>\n",
       "      <th>4</th>\n",
       "      <td>4</td>\n",
       "      <td>30</td>\n",
       "      <td>38500</td>\n",
       "      <td>90</td>\n",
       "      <td>2000</td>\n",
       "      <td>3</td>\n",
       "      <td>5</td>\n",
       "      <td>210</td>\n",
       "      <td>1170</td>\n",
       "      <td>13750</td>\n",
       "    </tr>\n",
       "    <tr>\n",
       "      <th>...</th>\n",
       "      <td>...</td>\n",
       "      <td>...</td>\n",
       "      <td>...</td>\n",
       "      <td>...</td>\n",
       "      <td>...</td>\n",
       "      <td>...</td>\n",
       "      <td>...</td>\n",
       "      <td>...</td>\n",
       "      <td>...</td>\n",
       "      <td>...</td>\n",
       "    </tr>\n",
       "    <tr>\n",
       "      <th>1429</th>\n",
       "      <td>1431</td>\n",
       "      <td>69</td>\n",
       "      <td>20544</td>\n",
       "      <td>86</td>\n",
       "      <td>1300</td>\n",
       "      <td>3</td>\n",
       "      <td>5</td>\n",
       "      <td>69</td>\n",
       "      <td>1025</td>\n",
       "      <td>7500</td>\n",
       "    </tr>\n",
       "    <tr>\n",
       "      <th>1430</th>\n",
       "      <td>1432</td>\n",
       "      <td>72</td>\n",
       "      <td>19000</td>\n",
       "      <td>86</td>\n",
       "      <td>1300</td>\n",
       "      <td>3</td>\n",
       "      <td>5</td>\n",
       "      <td>69</td>\n",
       "      <td>1015</td>\n",
       "      <td>10845</td>\n",
       "    </tr>\n",
       "    <tr>\n",
       "      <th>1431</th>\n",
       "      <td>1433</td>\n",
       "      <td>71</td>\n",
       "      <td>17016</td>\n",
       "      <td>86</td>\n",
       "      <td>1300</td>\n",
       "      <td>3</td>\n",
       "      <td>5</td>\n",
       "      <td>69</td>\n",
       "      <td>1015</td>\n",
       "      <td>8500</td>\n",
       "    </tr>\n",
       "    <tr>\n",
       "      <th>1432</th>\n",
       "      <td>1434</td>\n",
       "      <td>70</td>\n",
       "      <td>16916</td>\n",
       "      <td>86</td>\n",
       "      <td>1300</td>\n",
       "      <td>3</td>\n",
       "      <td>5</td>\n",
       "      <td>69</td>\n",
       "      <td>1015</td>\n",
       "      <td>7250</td>\n",
       "    </tr>\n",
       "    <tr>\n",
       "      <th>1433</th>\n",
       "      <td>1435</td>\n",
       "      <td>76</td>\n",
       "      <td>1</td>\n",
       "      <td>110</td>\n",
       "      <td>1600</td>\n",
       "      <td>5</td>\n",
       "      <td>5</td>\n",
       "      <td>19</td>\n",
       "      <td>1114</td>\n",
       "      <td>6950</td>\n",
       "    </tr>\n",
       "  </tbody>\n",
       "</table>\n",
       "<p>1434 rows × 10 columns</p>\n",
       "</div>"
      ],
      "text/plain": [
       "      index  age_months     KM   HP    cc  Doors  Gears  Quarterly_Tax  Weight  Price\n",
       "0         0          23  46986   90  2000      3      5            210    1165  13500\n",
       "1         1          23  72937   90  2000      3      5            210    1165  13750\n",
       "2         2          24  41711   90  2000      3      5            210    1165  13950\n",
       "3         3          26  48000   90  2000      3      5            210    1165  14950\n",
       "4         4          30  38500   90  2000      3      5            210    1170  13750\n",
       "...     ...         ...    ...  ...   ...    ...    ...            ...     ...    ...\n",
       "1429   1431          69  20544   86  1300      3      5             69    1025   7500\n",
       "1430   1432          72  19000   86  1300      3      5             69    1015  10845\n",
       "1431   1433          71  17016   86  1300      3      5             69    1015   8500\n",
       "1432   1434          70  16916   86  1300      3      5             69    1015   7250\n",
       "1433   1435          76      1  110  1600      5      5             19    1114   6950\n",
       "\n",
       "[1434 rows x 10 columns]"
      ]
     },
     "execution_count": 114,
     "metadata": {},
     "output_type": "execute_result"
    }
   ],
   "source": [
    "car_ds_seconddel = car_ds_firstdel.drop(car_ds_firstdel.index[220], axis=0).reset_index(drop=True)\n",
    "car_ds_seconddel"
   ]
  },
  {
   "cell_type": "code",
   "execution_count": 115,
   "id": "f6d72fde",
   "metadata": {
    "ExecuteTime": {
     "end_time": "2022-05-04T07:19:19.923817Z",
     "start_time": "2022-05-04T07:19:19.918821Z"
    }
   },
   "outputs": [
    {
     "data": {
      "text/plain": [
       "(1434, 10)"
      ]
     },
     "execution_count": 115,
     "metadata": {},
     "output_type": "execute_result"
    }
   ],
   "source": [
    "car_ds_seconddel.shape"
   ]
  },
  {
   "cell_type": "markdown",
   "id": "05c1ad86",
   "metadata": {},
   "source": [
    "### Building model after deleting 2nd outlier"
   ]
  },
  {
   "cell_type": "code",
   "execution_count": 116,
   "id": "bd973603",
   "metadata": {
    "ExecuteTime": {
     "end_time": "2022-05-04T07:20:27.069598Z",
     "start_time": "2022-05-04T07:20:27.029623Z"
    }
   },
   "outputs": [
    {
     "data": {
      "text/html": [
       "<table class=\"simpletable\">\n",
       "<caption>OLS Regression Results</caption>\n",
       "<tr>\n",
       "  <th>Dep. Variable:</th>          <td>Price</td>      <th>  R-squared:         </th> <td>   0.868</td> \n",
       "</tr>\n",
       "<tr>\n",
       "  <th>Model:</th>                   <td>OLS</td>       <th>  Adj. R-squared:    </th> <td>   0.868</td> \n",
       "</tr>\n",
       "<tr>\n",
       "  <th>Method:</th>             <td>Least Squares</td>  <th>  F-statistic:       </th> <td>   1344.</td> \n",
       "</tr>\n",
       "<tr>\n",
       "  <th>Date:</th>             <td>Wed, 04 May 2022</td> <th>  Prob (F-statistic):</th>  <td>  0.00</td>  \n",
       "</tr>\n",
       "<tr>\n",
       "  <th>Time:</th>                 <td>12:50:27</td>     <th>  Log-Likelihood:    </th> <td> -12332.</td> \n",
       "</tr>\n",
       "<tr>\n",
       "  <th>No. Observations:</th>      <td>  1434</td>      <th>  AIC:               </th> <td>2.468e+04</td>\n",
       "</tr>\n",
       "<tr>\n",
       "  <th>Df Residuals:</th>          <td>  1426</td>      <th>  BIC:               </th> <td>2.472e+04</td>\n",
       "</tr>\n",
       "<tr>\n",
       "  <th>Df Model:</th>              <td>     7</td>      <th>                     </th>     <td> </td>    \n",
       "</tr>\n",
       "<tr>\n",
       "  <th>Covariance Type:</th>      <td>nonrobust</td>    <th>                     </th>     <td> </td>    \n",
       "</tr>\n",
       "</table>\n",
       "<table class=\"simpletable\">\n",
       "<tr>\n",
       "        <td></td>           <th>coef</th>     <th>std err</th>      <th>t</th>      <th>P>|t|</th>  <th>[0.025</th>    <th>0.975]</th>  \n",
       "</tr>\n",
       "<tr>\n",
       "  <th>Intercept</th>     <td>-8286.2257</td> <td> 1435.255</td> <td>   -5.773</td> <td> 0.000</td> <td>-1.11e+04</td> <td>-5470.788</td>\n",
       "</tr>\n",
       "<tr>\n",
       "  <th>age_months</th>    <td> -118.9830</td> <td>    2.592</td> <td>  -45.902</td> <td> 0.000</td> <td> -124.068</td> <td> -113.898</td>\n",
       "</tr>\n",
       "<tr>\n",
       "  <th>KM</th>            <td>   -0.0211</td> <td>    0.001</td> <td>  -17.214</td> <td> 0.000</td> <td>   -0.024</td> <td>   -0.019</td>\n",
       "</tr>\n",
       "<tr>\n",
       "  <th>HP</th>            <td>   29.6703</td> <td>    2.763</td> <td>   10.737</td> <td> 0.000</td> <td>   24.250</td> <td>   35.091</td>\n",
       "</tr>\n",
       "<tr>\n",
       "  <th>Doors</th>         <td>  -24.7651</td> <td>   39.386</td> <td>   -0.629</td> <td> 0.530</td> <td> -102.026</td> <td>   52.495</td>\n",
       "</tr>\n",
       "<tr>\n",
       "  <th>Gears</th>         <td>  584.2356</td> <td>  193.385</td> <td>    3.021</td> <td> 0.003</td> <td>  204.885</td> <td>  963.586</td>\n",
       "</tr>\n",
       "<tr>\n",
       "  <th>Quarterly_Tax</th> <td>    1.8570</td> <td>    1.302</td> <td>    1.427</td> <td> 0.154</td> <td>   -0.696</td> <td>    4.410</td>\n",
       "</tr>\n",
       "<tr>\n",
       "  <th>Weight</th>        <td>   19.6904</td> <td>    1.111</td> <td>   17.729</td> <td> 0.000</td> <td>   17.512</td> <td>   21.869</td>\n",
       "</tr>\n",
       "</table>\n",
       "<table class=\"simpletable\">\n",
       "<tr>\n",
       "  <th>Omnibus:</th>       <td>132.471</td> <th>  Durbin-Watson:     </th> <td>   1.572</td> \n",
       "</tr>\n",
       "<tr>\n",
       "  <th>Prob(Omnibus):</th> <td> 0.000</td>  <th>  Jarque-Bera (JB):  </th> <td> 747.887</td> \n",
       "</tr>\n",
       "<tr>\n",
       "  <th>Skew:</th>          <td>-0.201</td>  <th>  Prob(JB):          </th> <td>3.97e-163</td>\n",
       "</tr>\n",
       "<tr>\n",
       "  <th>Kurtosis:</th>      <td> 6.515</td>  <th>  Cond. No.          </th> <td>3.24e+06</td> \n",
       "</tr>\n",
       "</table><br/><br/>Notes:<br/>[1] Standard Errors assume that the covariance matrix of the errors is correctly specified.<br/>[2] The condition number is large, 3.24e+06. This might indicate that there are<br/>strong multicollinearity or other numerical problems."
      ],
      "text/plain": [
       "<class 'statsmodels.iolib.summary.Summary'>\n",
       "\"\"\"\n",
       "                            OLS Regression Results                            \n",
       "==============================================================================\n",
       "Dep. Variable:                  Price   R-squared:                       0.868\n",
       "Model:                            OLS   Adj. R-squared:                  0.868\n",
       "Method:                 Least Squares   F-statistic:                     1344.\n",
       "Date:                Wed, 04 May 2022   Prob (F-statistic):               0.00\n",
       "Time:                        12:50:27   Log-Likelihood:                -12332.\n",
       "No. Observations:                1434   AIC:                         2.468e+04\n",
       "Df Residuals:                    1426   BIC:                         2.472e+04\n",
       "Df Model:                           7                                         \n",
       "Covariance Type:            nonrobust                                         \n",
       "=================================================================================\n",
       "                    coef    std err          t      P>|t|      [0.025      0.975]\n",
       "---------------------------------------------------------------------------------\n",
       "Intercept     -8286.2257   1435.255     -5.773      0.000   -1.11e+04   -5470.788\n",
       "age_months     -118.9830      2.592    -45.902      0.000    -124.068    -113.898\n",
       "KM               -0.0211      0.001    -17.214      0.000      -0.024      -0.019\n",
       "HP               29.6703      2.763     10.737      0.000      24.250      35.091\n",
       "Doors           -24.7651     39.386     -0.629      0.530    -102.026      52.495\n",
       "Gears           584.2356    193.385      3.021      0.003     204.885     963.586\n",
       "Quarterly_Tax     1.8570      1.302      1.427      0.154      -0.696       4.410\n",
       "Weight           19.6904      1.111     17.729      0.000      17.512      21.869\n",
       "==============================================================================\n",
       "Omnibus:                      132.471   Durbin-Watson:                   1.572\n",
       "Prob(Omnibus):                  0.000   Jarque-Bera (JB):              747.887\n",
       "Skew:                          -0.201   Prob(JB):                    3.97e-163\n",
       "Kurtosis:                       6.515   Cond. No.                     3.24e+06\n",
       "==============================================================================\n",
       "\n",
       "Notes:\n",
       "[1] Standard Errors assume that the covariance matrix of the errors is correctly specified.\n",
       "[2] The condition number is large, 3.24e+06. This might indicate that there are\n",
       "strong multicollinearity or other numerical problems.\n",
       "\"\"\""
      ]
     },
     "execution_count": 116,
     "metadata": {},
     "output_type": "execute_result"
    }
   ],
   "source": [
    "model_seconddel = smf.ols('Price~age_months+KM+HP+Doors+Gears+Quarterly_Tax+Weight', data=car_ds_seconddel).fit()\n",
    "model_seconddel.summary()"
   ]
  },
  {
   "cell_type": "markdown",
   "id": "9264dc88",
   "metadata": {},
   "source": [
    "### The Rsquared value increased to 86% after deleting 2nd outlier\n",
    "#### Again checking for outliers"
   ]
  },
  {
   "cell_type": "code",
   "execution_count": 117,
   "id": "00b552a1",
   "metadata": {
    "ExecuteTime": {
     "end_time": "2022-05-04T07:22:06.051583Z",
     "start_time": "2022-05-04T07:22:06.044589Z"
    }
   },
   "outputs": [],
   "source": [
    "# again checking for outliers\n",
    "model_influence_cc_1 = model_seconddel.get_influence()\n",
    "(c_cc_1,_) = model_influence_cc_1.cooks_distance"
   ]
  },
  {
   "cell_type": "code",
   "execution_count": 119,
   "id": "af07bcee",
   "metadata": {
    "ExecuteTime": {
     "end_time": "2022-05-04T07:23:06.650118Z",
     "start_time": "2022-05-04T07:23:06.396692Z"
    }
   },
   "outputs": [
    {
     "data": {
      "text/plain": [
       "Text(0, 0.5, 'Cooks distance')"
      ]
     },
     "execution_count": 119,
     "metadata": {},
     "output_type": "execute_result"
    },
    {
     "data": {
      "image/png": "[encoded data removed]",
      "text/plain": [
       "<Figure size 1440x576 with 1 Axes>"
      ]
     },
     "metadata": {
      "needs_background": "light"
     },
     "output_type": "display_data"
    }
   ],
   "source": [
    "plt.figure(figsize=(20,8))\n",
    "plt.stem(np.arange(len(car_ds_seconddel)),np.round(c_cc_1,3))\n",
    "plt.xlabel('row index')\n",
    "plt.ylabel('Cooks distance')"
   ]
  },
  {
   "cell_type": "code",
   "execution_count": 120,
   "id": "56041827",
   "metadata": {
    "ExecuteTime": {
     "end_time": "2022-05-04T07:23:52.060778Z",
     "start_time": "2022-05-04T07:23:52.044786Z"
    }
   },
   "outputs": [
    {
     "data": {
      "text/plain": [
       "(958, 1.1814594040883752)"
      ]
     },
     "execution_count": 120,
     "metadata": {},
     "output_type": "execute_result"
    }
   ],
   "source": [
    "# index and value of influencer where c is more than 1\n",
    "# here the 958th observation is an outlier having cooks distance > 1 \n",
    "(np.argmax(c_cc_1), np.max(c_cc_1))"
   ]
  },
  {
   "cell_type": "markdown",
   "id": "7957e6f2",
   "metadata": {},
   "source": [
    "#### Deleting the 3rd outlier at index 958"
   ]
  },
  {
   "cell_type": "code",
   "execution_count": 121,
   "id": "44e6c2f8",
   "metadata": {
    "ExecuteTime": {
     "end_time": "2022-05-04T07:25:37.427307Z",
     "start_time": "2022-05-04T07:25:37.393330Z"
    }
   },
   "outputs": [
    {
     "data": {
      "text/html": [
       "<div>\n",
       "<style scoped>\n",
       "    .dataframe tbody tr th:only-of-type {\n",
       "        vertical-align: middle;\n",
       "    }\n",
       "\n",
       "    .dataframe tbody tr th {\n",
       "        vertical-align: top;\n",
       "    }\n",
       "\n",
       "    .dataframe thead th {\n",
       "        text-align: right;\n",
       "    }\n",
       "</style>\n",
       "<table border=\"1\" class=\"dataframe\">\n",
       "  <thead>\n",
       "    <tr style=\"text-align: right;\">\n",
       "      <th></th>\n",
       "      <th>index</th>\n",
       "      <th>age_months</th>\n",
       "      <th>KM</th>\n",
       "      <th>HP</th>\n",
       "      <th>cc</th>\n",
       "      <th>Doors</th>\n",
       "      <th>Gears</th>\n",
       "      <th>Quarterly_Tax</th>\n",
       "      <th>Weight</th>\n",
       "      <th>Price</th>\n",
       "    </tr>\n",
       "  </thead>\n",
       "  <tbody>\n",
       "    <tr>\n",
       "      <th>0</th>\n",
       "      <td>0</td>\n",
       "      <td>23</td>\n",
       "      <td>46986</td>\n",
       "      <td>90</td>\n",
       "      <td>2000</td>\n",
       "      <td>3</td>\n",
       "      <td>5</td>\n",
       "      <td>210</td>\n",
       "      <td>1165</td>\n",
       "      <td>13500</td>\n",
       "    </tr>\n",
       "    <tr>\n",
       "      <th>1</th>\n",
       "      <td>1</td>\n",
       "      <td>23</td>\n",
       "      <td>72937</td>\n",
       "      <td>90</td>\n",
       "      <td>2000</td>\n",
       "      <td>3</td>\n",
       "      <td>5</td>\n",
       "      <td>210</td>\n",
       "      <td>1165</td>\n",
       "      <td>13750</td>\n",
       "    </tr>\n",
       "    <tr>\n",
       "      <th>2</th>\n",
       "      <td>2</td>\n",
       "      <td>24</td>\n",
       "      <td>41711</td>\n",
       "      <td>90</td>\n",
       "      <td>2000</td>\n",
       "      <td>3</td>\n",
       "      <td>5</td>\n",
       "      <td>210</td>\n",
       "      <td>1165</td>\n",
       "      <td>13950</td>\n",
       "    </tr>\n",
       "    <tr>\n",
       "      <th>3</th>\n",
       "      <td>3</td>\n",
       "      <td>26</td>\n",
       "      <td>48000</td>\n",
       "      <td>90</td>\n",
       "      <td>2000</td>\n",
       "      <td>3</td>\n",
       "      <td>5</td>\n",
       "      <td>210</td>\n",
       "      <td>1165</td>\n",
       "      <td>14950</td>\n",
       "    </tr>\n",
       "  </tbody>\n",
       "</table>\n",
       "</div>"
      ],
      "text/plain": [
       "   index  age_months     KM  HP    cc  Doors  Gears  Quarterly_Tax  Weight  Price\n",
       "0      0          23  46986  90  2000      3      5            210    1165  13500\n",
       "1      1          23  72937  90  2000      3      5            210    1165  13750\n",
       "2      2          24  41711  90  2000      3      5            210    1165  13950\n",
       "3      3          26  48000  90  2000      3      5            210    1165  14950"
      ]
     },
     "execution_count": 121,
     "metadata": {},
     "output_type": "execute_result"
    }
   ],
   "source": [
    "car_ds_thirddel = car_ds_seconddel.drop(car_ds_seconddel.index[220], axis=0).reset_index(drop=True)\n",
    "car_ds_thirddel.head(4)"
   ]
  },
  {
   "cell_type": "code",
   "execution_count": 122,
   "id": "a6e143bd",
   "metadata": {
    "ExecuteTime": {
     "end_time": "2022-05-04T07:25:44.845172Z",
     "start_time": "2022-05-04T07:25:44.825185Z"
    }
   },
   "outputs": [
    {
     "data": {
      "text/plain": [
       "(1433, 10)"
      ]
     },
     "execution_count": 122,
     "metadata": {},
     "output_type": "execute_result"
    }
   ],
   "source": [
    "car_ds_thirddel.shape"
   ]
  },
  {
   "cell_type": "markdown",
   "id": "165078f4",
   "metadata": {},
   "source": [
    "### Again building model after deleting 3rd outlier at index 958"
   ]
  },
  {
   "cell_type": "code",
   "execution_count": 123,
   "id": "d20248f8",
   "metadata": {
    "ExecuteTime": {
     "end_time": "2022-05-04T07:27:05.341073Z",
     "start_time": "2022-05-04T07:27:05.289067Z"
    }
   },
   "outputs": [
    {
     "data": {
      "text/html": [
       "<table class=\"simpletable\">\n",
       "<caption>OLS Regression Results</caption>\n",
       "<tr>\n",
       "  <th>Dep. Variable:</th>          <td>Price</td>      <th>  R-squared:         </th> <td>   0.868</td> \n",
       "</tr>\n",
       "<tr>\n",
       "  <th>Model:</th>                   <td>OLS</td>       <th>  Adj. R-squared:    </th> <td>   0.868</td> \n",
       "</tr>\n",
       "<tr>\n",
       "  <th>Method:</th>             <td>Least Squares</td>  <th>  F-statistic:       </th> <td>   1343.</td> \n",
       "</tr>\n",
       "<tr>\n",
       "  <th>Date:</th>             <td>Wed, 04 May 2022</td> <th>  Prob (F-statistic):</th>  <td>  0.00</td>  \n",
       "</tr>\n",
       "<tr>\n",
       "  <th>Time:</th>                 <td>12:57:05</td>     <th>  Log-Likelihood:    </th> <td> -12324.</td> \n",
       "</tr>\n",
       "<tr>\n",
       "  <th>No. Observations:</th>      <td>  1433</td>      <th>  AIC:               </th> <td>2.466e+04</td>\n",
       "</tr>\n",
       "<tr>\n",
       "  <th>Df Residuals:</th>          <td>  1425</td>      <th>  BIC:               </th> <td>2.471e+04</td>\n",
       "</tr>\n",
       "<tr>\n",
       "  <th>Df Model:</th>              <td>     7</td>      <th>                     </th>     <td> </td>    \n",
       "</tr>\n",
       "<tr>\n",
       "  <th>Covariance Type:</th>      <td>nonrobust</td>    <th>                     </th>     <td> </td>    \n",
       "</tr>\n",
       "</table>\n",
       "<table class=\"simpletable\">\n",
       "<tr>\n",
       "        <td></td>           <th>coef</th>     <th>std err</th>      <th>t</th>      <th>P>|t|</th>  <th>[0.025</th>    <th>0.975]</th>  \n",
       "</tr>\n",
       "<tr>\n",
       "  <th>Intercept</th>     <td>-8271.5774</td> <td> 1435.729</td> <td>   -5.761</td> <td> 0.000</td> <td>-1.11e+04</td> <td>-5455.208</td>\n",
       "</tr>\n",
       "<tr>\n",
       "  <th>age_months</th>    <td> -119.0400</td> <td>    2.594</td> <td>  -45.888</td> <td> 0.000</td> <td> -124.129</td> <td> -113.951</td>\n",
       "</tr>\n",
       "<tr>\n",
       "  <th>KM</th>            <td>   -0.0211</td> <td>    0.001</td> <td>  -17.189</td> <td> 0.000</td> <td>   -0.023</td> <td>   -0.019</td>\n",
       "</tr>\n",
       "<tr>\n",
       "  <th>HP</th>            <td>   29.7023</td> <td>    2.764</td> <td>   10.744</td> <td> 0.000</td> <td>   24.279</td> <td>   35.125</td>\n",
       "</tr>\n",
       "<tr>\n",
       "  <th>Doors</th>         <td>  -24.0945</td> <td>   39.408</td> <td>   -0.611</td> <td> 0.541</td> <td> -101.398</td> <td>   53.209</td>\n",
       "</tr>\n",
       "<tr>\n",
       "  <th>Gears</th>         <td>  583.8100</td> <td>  193.426</td> <td>    3.018</td> <td> 0.003</td> <td>  204.379</td> <td>  963.241</td>\n",
       "</tr>\n",
       "<tr>\n",
       "  <th>Quarterly_Tax</th> <td>    1.8599</td> <td>    1.302</td> <td>    1.429</td> <td> 0.153</td> <td>   -0.694</td> <td>    4.414</td>\n",
       "</tr>\n",
       "<tr>\n",
       "  <th>Weight</th>        <td>   19.6752</td> <td>    1.111</td> <td>   17.708</td> <td> 0.000</td> <td>   17.496</td> <td>   21.855</td>\n",
       "</tr>\n",
       "</table>\n",
       "<table class=\"simpletable\">\n",
       "<tr>\n",
       "  <th>Omnibus:</th>       <td>132.194</td> <th>  Durbin-Watson:     </th> <td>   1.571</td> \n",
       "</tr>\n",
       "<tr>\n",
       "  <th>Prob(Omnibus):</th> <td> 0.000</td>  <th>  Jarque-Bera (JB):  </th> <td> 744.309</td> \n",
       "</tr>\n",
       "<tr>\n",
       "  <th>Skew:</th>          <td>-0.201</td>  <th>  Prob(JB):          </th> <td>2.37e-162</td>\n",
       "</tr>\n",
       "<tr>\n",
       "  <th>Kurtosis:</th>      <td> 6.508</td>  <th>  Cond. No.          </th> <td>3.24e+06</td> \n",
       "</tr>\n",
       "</table><br/><br/>Notes:<br/>[1] Standard Errors assume that the covariance matrix of the errors is correctly specified.<br/>[2] The condition number is large, 3.24e+06. This might indicate that there are<br/>strong multicollinearity or other numerical problems."
      ],
      "text/plain": [
       "<class 'statsmodels.iolib.summary.Summary'>\n",
       "\"\"\"\n",
       "                            OLS Regression Results                            \n",
       "==============================================================================\n",
       "Dep. Variable:                  Price   R-squared:                       0.868\n",
       "Model:                            OLS   Adj. R-squared:                  0.868\n",
       "Method:                 Least Squares   F-statistic:                     1343.\n",
       "Date:                Wed, 04 May 2022   Prob (F-statistic):               0.00\n",
       "Time:                        12:57:05   Log-Likelihood:                -12324.\n",
       "No. Observations:                1433   AIC:                         2.466e+04\n",
       "Df Residuals:                    1425   BIC:                         2.471e+04\n",
       "Df Model:                           7                                         \n",
       "Covariance Type:            nonrobust                                         \n",
       "=================================================================================\n",
       "                    coef    std err          t      P>|t|      [0.025      0.975]\n",
       "---------------------------------------------------------------------------------\n",
       "Intercept     -8271.5774   1435.729     -5.761      0.000   -1.11e+04   -5455.208\n",
       "age_months     -119.0400      2.594    -45.888      0.000    -124.129    -113.951\n",
       "KM               -0.0211      0.001    -17.189      0.000      -0.023      -0.019\n",
       "HP               29.7023      2.764     10.744      0.000      24.279      35.125\n",
       "Doors           -24.0945     39.408     -0.611      0.541    -101.398      53.209\n",
       "Gears           583.8100    193.426      3.018      0.003     204.379     963.241\n",
       "Quarterly_Tax     1.8599      1.302      1.429      0.153      -0.694       4.414\n",
       "Weight           19.6752      1.111     17.708      0.000      17.496      21.855\n",
       "==============================================================================\n",
       "Omnibus:                      132.194   Durbin-Watson:                   1.571\n",
       "Prob(Omnibus):                  0.000   Jarque-Bera (JB):              744.309\n",
       "Skew:                          -0.201   Prob(JB):                    2.37e-162\n",
       "Kurtosis:                       6.508   Cond. No.                     3.24e+06\n",
       "==============================================================================\n",
       "\n",
       "Notes:\n",
       "[1] Standard Errors assume that the covariance matrix of the errors is correctly specified.\n",
       "[2] The condition number is large, 3.24e+06. This might indicate that there are\n",
       "strong multicollinearity or other numerical problems.\n",
       "\"\"\""
      ]
     },
     "execution_count": 123,
     "metadata": {},
     "output_type": "execute_result"
    }
   ],
   "source": [
    "model_thirddel = smf.ols('Price~age_months+KM+HP+Doors+Gears+Quarterly_Tax+Weight', data=car_ds_thirddel).fit()\n",
    "model_thirddel.summary()"
   ]
  },
  {
   "cell_type": "markdown",
   "id": "61ae04e5",
   "metadata": {},
   "source": [
    "#### Since the model's accuracy is not increasing - we will stop here and will use this model for prediction"
   ]
  },
  {
   "cell_type": "markdown",
   "id": "626fd469",
   "metadata": {
    "ExecuteTime": {
     "end_time": "2022-05-04T07:28:24.488639Z",
     "start_time": "2022-05-04T07:28:24.472649Z"
    }
   },
   "source": [
    "### Predicting Final Price Data - after deleting cc variable and 3 outliers"
   ]
  },
  {
   "cell_type": "code",
   "execution_count": 128,
   "id": "e9c5967b",
   "metadata": {
    "ExecuteTime": {
     "end_time": "2022-05-04T07:33:00.315612Z",
     "start_time": "2022-05-04T07:33:00.292627Z"
    }
   },
   "outputs": [
    {
     "data": {
      "text/plain": [
       "0    16831.623218\n",
       "1    16284.254539\n",
       "2    16823.845561\n",
       "3    16453.115447\n",
       "dtype: float64"
      ]
     },
     "execution_count": 128,
     "metadata": {},
     "output_type": "execute_result"
    }
   ],
   "source": [
    "pred_price = model_thirddel.predict(car_ds_thirddel)\n",
    "pred_price.head(4)"
   ]
  },
  {
   "cell_type": "code",
   "execution_count": 129,
   "id": "abf748e6",
   "metadata": {
    "ExecuteTime": {
     "end_time": "2022-05-04T07:33:30.397474Z",
     "start_time": "2022-05-04T07:33:30.373489Z"
    }
   },
   "outputs": [
    {
     "data": {
      "text/html": [
       "<div>\n",
       "<style scoped>\n",
       "    .dataframe tbody tr th:only-of-type {\n",
       "        vertical-align: middle;\n",
       "    }\n",
       "\n",
       "    .dataframe tbody tr th {\n",
       "        vertical-align: top;\n",
       "    }\n",
       "\n",
       "    .dataframe thead th {\n",
       "        text-align: right;\n",
       "    }\n",
       "</style>\n",
       "<table border=\"1\" class=\"dataframe\">\n",
       "  <thead>\n",
       "    <tr style=\"text-align: right;\">\n",
       "      <th></th>\n",
       "      <th>index</th>\n",
       "      <th>age_months</th>\n",
       "      <th>KM</th>\n",
       "      <th>HP</th>\n",
       "      <th>cc</th>\n",
       "      <th>Doors</th>\n",
       "      <th>Gears</th>\n",
       "      <th>Quarterly_Tax</th>\n",
       "      <th>Weight</th>\n",
       "      <th>Price</th>\n",
       "      <th>Predicted Price</th>\n",
       "    </tr>\n",
       "  </thead>\n",
       "  <tbody>\n",
       "    <tr>\n",
       "      <th>0</th>\n",
       "      <td>0</td>\n",
       "      <td>23</td>\n",
       "      <td>46986</td>\n",
       "      <td>90</td>\n",
       "      <td>2000</td>\n",
       "      <td>3</td>\n",
       "      <td>5</td>\n",
       "      <td>210</td>\n",
       "      <td>1165</td>\n",
       "      <td>13500</td>\n",
       "      <td>16831.623218</td>\n",
       "    </tr>\n",
       "    <tr>\n",
       "      <th>1</th>\n",
       "      <td>1</td>\n",
       "      <td>23</td>\n",
       "      <td>72937</td>\n",
       "      <td>90</td>\n",
       "      <td>2000</td>\n",
       "      <td>3</td>\n",
       "      <td>5</td>\n",
       "      <td>210</td>\n",
       "      <td>1165</td>\n",
       "      <td>13750</td>\n",
       "      <td>16284.254539</td>\n",
       "    </tr>\n",
       "    <tr>\n",
       "      <th>2</th>\n",
       "      <td>2</td>\n",
       "      <td>24</td>\n",
       "      <td>41711</td>\n",
       "      <td>90</td>\n",
       "      <td>2000</td>\n",
       "      <td>3</td>\n",
       "      <td>5</td>\n",
       "      <td>210</td>\n",
       "      <td>1165</td>\n",
       "      <td>13950</td>\n",
       "      <td>16823.845561</td>\n",
       "    </tr>\n",
       "    <tr>\n",
       "      <th>3</th>\n",
       "      <td>3</td>\n",
       "      <td>26</td>\n",
       "      <td>48000</td>\n",
       "      <td>90</td>\n",
       "      <td>2000</td>\n",
       "      <td>3</td>\n",
       "      <td>5</td>\n",
       "      <td>210</td>\n",
       "      <td>1165</td>\n",
       "      <td>14950</td>\n",
       "      <td>16453.115447</td>\n",
       "    </tr>\n",
       "    <tr>\n",
       "      <th>4</th>\n",
       "      <td>4</td>\n",
       "      <td>30</td>\n",
       "      <td>38500</td>\n",
       "      <td>90</td>\n",
       "      <td>2000</td>\n",
       "      <td>3</td>\n",
       "      <td>5</td>\n",
       "      <td>210</td>\n",
       "      <td>1170</td>\n",
       "      <td>13750</td>\n",
       "      <td>16275.709080</td>\n",
       "    </tr>\n",
       "    <tr>\n",
       "      <th>5</th>\n",
       "      <td>5</td>\n",
       "      <td>32</td>\n",
       "      <td>61000</td>\n",
       "      <td>90</td>\n",
       "      <td>2000</td>\n",
       "      <td>3</td>\n",
       "      <td>5</td>\n",
       "      <td>210</td>\n",
       "      <td>1170</td>\n",
       "      <td>12950</td>\n",
       "      <td>15563.050191</td>\n",
       "    </tr>\n",
       "    <tr>\n",
       "      <th>6</th>\n",
       "      <td>6</td>\n",
       "      <td>27</td>\n",
       "      <td>94612</td>\n",
       "      <td>90</td>\n",
       "      <td>2000</td>\n",
       "      <td>3</td>\n",
       "      <td>5</td>\n",
       "      <td>210</td>\n",
       "      <td>1245</td>\n",
       "      <td>16900</td>\n",
       "      <td>16924.933079</td>\n",
       "    </tr>\n",
       "    <tr>\n",
       "      <th>7</th>\n",
       "      <td>7</td>\n",
       "      <td>30</td>\n",
       "      <td>75889</td>\n",
       "      <td>90</td>\n",
       "      <td>2000</td>\n",
       "      <td>3</td>\n",
       "      <td>5</td>\n",
       "      <td>210</td>\n",
       "      <td>1245</td>\n",
       "      <td>18600</td>\n",
       "      <td>16962.725860</td>\n",
       "    </tr>\n",
       "    <tr>\n",
       "      <th>8</th>\n",
       "      <td>8</td>\n",
       "      <td>27</td>\n",
       "      <td>19700</td>\n",
       "      <td>192</td>\n",
       "      <td>1800</td>\n",
       "      <td>3</td>\n",
       "      <td>5</td>\n",
       "      <td>100</td>\n",
       "      <td>1185</td>\n",
       "      <td>21500</td>\n",
       "      <td>20149.532255</td>\n",
       "    </tr>\n",
       "    <tr>\n",
       "      <th>9</th>\n",
       "      <td>9</td>\n",
       "      <td>23</td>\n",
       "      <td>71138</td>\n",
       "      <td>69</td>\n",
       "      <td>1900</td>\n",
       "      <td>3</td>\n",
       "      <td>5</td>\n",
       "      <td>185</td>\n",
       "      <td>1105</td>\n",
       "      <td>12950</td>\n",
       "      <td>14471.441642</td>\n",
       "    </tr>\n",
       "  </tbody>\n",
       "</table>\n",
       "</div>"
      ],
      "text/plain": [
       "   index  age_months     KM   HP    cc  Doors  Gears  Quarterly_Tax  Weight  Price  Predicted Price\n",
       "0      0          23  46986   90  2000      3      5            210    1165  13500     16831.623218\n",
       "1      1          23  72937   90  2000      3      5            210    1165  13750     16284.254539\n",
       "2      2          24  41711   90  2000      3      5            210    1165  13950     16823.845561\n",
       "3      3          26  48000   90  2000      3      5            210    1165  14950     16453.115447\n",
       "4      4          30  38500   90  2000      3      5            210    1170  13750     16275.709080\n",
       "5      5          32  61000   90  2000      3      5            210    1170  12950     15563.050191\n",
       "6      6          27  94612   90  2000      3      5            210    1245  16900     16924.933079\n",
       "7      7          30  75889   90  2000      3      5            210    1245  18600     16962.725860\n",
       "8      8          27  19700  192  1800      3      5            100    1185  21500     20149.532255\n",
       "9      9          23  71138   69  1900      3      5            185    1105  12950     14471.441642"
      ]
     },
     "execution_count": 129,
     "metadata": {},
     "output_type": "execute_result"
    }
   ],
   "source": [
    "car_ds_thirddel['Predicted Price'] = pred_price\n",
    "car_ds_thirddel.head(10)"
   ]
  },
  {
   "cell_type": "code",
   "execution_count": null,
   "id": "e21ee57a",
   "metadata": {},
   "outputs": [],
   "source": []
  },
  {
   "cell_type": "code",
   "execution_count": null,
   "id": "95c256bb",
   "metadata": {},
   "outputs": [],
   "source": []
  }
 ],
 "metadata": {
  "kernelspec": {
   "display_name": "Python 3 (ipykernel)",
   "language": "python",
   "name": "python3"
  },
  "language_info": {
   "codemirror_mode": {
    "name": "ipython",
    "version": 3
   },
   "file_extension": ".py",
   "mimetype": "text/x-python",
   "name": "python",
   "nbconvert_exporter": "python",
   "pygments_lexer": "ipython3",
   "version": "3.8.8"
  },
  "toc": {
   "base_numbering": 1,
   "nav_menu": {},
   "number_sections": true,
   "sideBar": true,
   "skip_h1_title": false,
   "title_cell": "Table of Contents",
   "title_sidebar": "Contents",
   "toc_cell": false,
   "toc_position": {},
   "toc_section_display": true,
   "toc_window_display": false
  },
  "varInspector": {
   "cols": {
    "lenName": 16,
    "lenType": 16,
    "lenVar": 40
   },
   "kernels_config": {
    "python": {
     "delete_cmd_postfix": "",
     "delete_cmd_prefix": "del ",
     "library": "var_list.py",
     "varRefreshCmd": "print(var_dic_list())"
    },
    "r": {
     "delete_cmd_postfix": ") ",
     "delete_cmd_prefix": "rm(",
     "library": "var_list.r",
     "varRefreshCmd": "cat(var_dic_list()) "
    }
   },
   "types_to_exclude": [
    "module",
    "function",
    "builtin_function_or_method",
    "instance",
    "_Feature"
   ],
   "window_display": false
  }
 },
 "nbformat": 4,
 "nbformat_minor": 5
}
